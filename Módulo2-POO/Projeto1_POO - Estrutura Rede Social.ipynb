{
 "cells": [
  {
   "cell_type": "markdown",
   "id": "cae09e33",
   "metadata": {},
   "source": [
    "Mini Projeto 1\n",
    "\n",
    "Você trabalha em uma Rede Social e precisa criar uma estrutura que represente as pessoas que a usam em python (com Programação Orientado a Objetos).\n",
    "É necessário guardar informações das pessoas que utilizam essa rede social:\n",
    "* nome\n",
    "* apelido\n",
    "* data de nascimento\n",
    "* e-mail\n",
    "* amigos\n",
    "* lista de interesses\n",
    "* posts\n",
    "\n",
    "E além disso, existem algumas funcionalidades que precisamos ter:\n",
    "\n",
    "* adicionar um amigo na lista de amigos\n",
    "* adicionar um interesse na lista interesses\n",
    "* postar\n",
    "* calcular a quantidade de amigos\n",
    "* calcular a quantidade de posts\n",
    "* dado um nome, verificar se existe uma pessoa com esse nome na sua lista de amizade\n",
    "* dado uma palavra ou frase, trazer TODOS os posts com aquela palavra (procurar post)\n",
    "* mostrar os posts dos amigos\n",
    "\n",
    "Parâmetros de correção:\n",
    "\n",
    "* Documentação\n",
    "* Bom nomes de classe, atributos, métodos, etc.\n",
    "* Lógica"
   ]
  },
  {
   "cell_type": "code",
   "execution_count": 386,
   "id": "b24a71a2",
   "metadata": {},
   "outputs": [],
   "source": [
    "class UsuarioRedeSocial:\n",
    "    def __init__(self, nome, email, data_nascimento, apelido = None):\n",
    "        '''\n",
    "        Cria a representação de um usuário\n",
    "    \n",
    "        Parâmetros\n",
    "        ----------\n",
    "        nome : str\n",
    "            Nome da pessoa\n",
    "        email : str\n",
    "            E-mail da pessoa\n",
    "        data_nascimento : str\n",
    "            Data de nascimento da pessoa\n",
    "        apelido : str\n",
    "            Apelido da pessoa - opcional\n",
    "        '''\n",
    "        # Atributos necessários para instanciação\n",
    "        self.nome = nome\n",
    "        self.email = email\n",
    "        self.data_nascimento = data_nascimento\n",
    "        \n",
    "        # Atributo opcional no momento da instanciação\n",
    "        self.apelido = apelido\n",
    "        \n",
    "        # Atributos não necessários para instanciação\n",
    "        self.lista_interesses = []\n",
    "        self.lista_amigos = []\n",
    "        self.posts = []\n",
    "    \n",
    "    def adicionar_amigos(self, nome_amigo):\n",
    "        '''\n",
    "        Adiciona amigos na lista de amigos do usuário e o usuário na lista de amigos do novo amigo adicionado\n",
    "        \n",
    "        Parâmetros\n",
    "        ----------\n",
    "        nome_amigo : str\n",
    "            Nome do amigo que deseja verificar se está na lista\n",
    "            \n",
    "        Retorno\n",
    "        --------\n",
    "        out : boolean\n",
    "            Retorna True se deu certo e False se deu errado\n",
    "        '''\n",
    "        self.lista_amigos.append(nome_amigo)\n",
    "        nome_amigo.lista_amigos.append(self)\n",
    "        return True\n",
    "    \n",
    "    def adicionar_interesses(self, novo_interesse):\n",
    "        '''\n",
    "        Adiciona novos interesses a lista de interesses do usuário\n",
    "        \n",
    "        Parâmetros\n",
    "        ----------\n",
    "        novo_interesse : str\n",
    "            Interesse que deseja adicionar à lista de interesses do usuário\n",
    "            \n",
    "        Retorno\n",
    "        --------\n",
    "        out : boolean\n",
    "            Retorna True se deu certo e False se deu errado\n",
    "        '''\n",
    "        self.lista_interesses.append(novo_interesse)\n",
    "        return True\n",
    "    \n",
    "    def adicionar_post(self, novo_post):\n",
    "        '''\n",
    "        Adiciona um novo post na lista de interesses do usuário\n",
    "        \n",
    "        Parâmetros\n",
    "        ----------\n",
    "        novo_post : str\n",
    "            Post que deseja adicionar à lista de interesses do usuário\n",
    "            \n",
    "        Retorno\n",
    "        --------\n",
    "        out : boolean\n",
    "            Retorna True se deu certo e False se deu errado\n",
    "        '''\n",
    "        self.posts.append(novo_post)\n",
    "        return True\n",
    "    \n",
    "    def calcular_quantidade_amigos(self):\n",
    "        '''\n",
    "        Calcula e a quantidade de amigos do usuário\n",
    "        \n",
    "        Retorno\n",
    "        --------\n",
    "        out : int\n",
    "            Retorna o número de elementos presente na lista amigos\n",
    "        '''\n",
    "        return len(self.lista_amigos)\n",
    "    \n",
    "    def calcular_quantidade_posts(self):\n",
    "        '''\n",
    "        Calcula e retorna a quantidade de posts do usuário\n",
    "        \n",
    "        Retorno\n",
    "        --------\n",
    "        out : int\n",
    "            Retorna o número de elementos presentes na lista de posts\n",
    "        '''\n",
    "        return len(self.posts)\n",
    "    \n",
    "    def procurar_amigo(self, nome_amigo):\n",
    "        '''\n",
    "        Verifica se existe uma pessoa com o nome procurado na lista de amigos do usuário\n",
    "        \n",
    "        Retorno\n",
    "        --------\n",
    "        out : boolean\n",
    "            Retorna True se existir o amigo e False se o amigo não estiver na lista\n",
    "        '''\n",
    "        if nome_amigo in lista_amigos:\n",
    "            return True\n",
    "        \n",
    "    def procurar_posts_relacionados(self, trecho_procurado):\n",
    "        '''\n",
    "        Procura os posts do usuário relacionados com uma palavra ou frase fornecidas pelo usuário\n",
    "        \n",
    "        Parâmetro\n",
    "        ---------\n",
    "        trecho_procurado : str\n",
    "            Palavra ou texto que o usuário deseja buscar em sua lista de posts\n",
    "            \n",
    "        Retorno\n",
    "        -------\n",
    "        resultado_busca_posts : list\n",
    "            Lista com os posts que possuem a palavra ou frase procurada\n",
    "        '''\n",
    "        resultado_busca_posts = []\n",
    "        for post in self.posts:\n",
    "            if trecho_procurado.lower() in post.lower():\n",
    "                resultado_busca_posts.append(post)\n",
    "        return resultado_busca_posts\n",
    "                \n",
    "    def mostrar_posts_amigos(self):\n",
    "        '''\n",
    "        Mostra todos os posts de todos os amigos do usuário,\n",
    "        \n",
    "        Retorno\n",
    "        -------\n",
    "        posts_amigos : dict\n",
    "            Dicionário com os posts de todos os amigos do usuário, sendo as chaves, os nomes dos amigos\n",
    "        '''\n",
    "        posts_amigos = {}\n",
    "        for amigo in self.lista_amigos:\n",
    "            if len(amigo.posts) != 0:\n",
    "                posts_amigos[amigo.nome] = []\n",
    "                for post in amigo.posts:\n",
    "                    posts_amigos[amigo.nome].append(post)\n",
    "        return posts_amigos"
   ]
  },
  {
   "cell_type": "code",
   "execution_count": 403,
   "id": "cfe7a839",
   "metadata": {},
   "outputs": [],
   "source": [
    "leticia = UsuarioRedeSocial(\n",
    "    nome = 'Letícia',\n",
    "    email = 'leticia.torres95@hotmail.com',\n",
    "    data_nascimento = '23/10/1995',\n",
    "    apelido = 'Le'\n",
    ")\n",
    "\n",
    "nathalia = UsuarioRedeSocial(\n",
    "    nome = 'Nathalia',\n",
    "    email = 'natalia5@hotmail.com',\n",
    "    data_nascimento = '17/08/1988'\n",
    ")\n",
    "\n",
    "diego = UsuarioRedeSocial(\n",
    "    nome = 'Diego',\n",
    "    email = 'diego@hotmail.com',\n",
    "    data_nascimento = '05/06/1999'\n",
    ")"
   ]
  },
  {
   "cell_type": "code",
   "execution_count": 404,
   "id": "c498cd19",
   "metadata": {},
   "outputs": [
    {
     "data": {
      "text/plain": [
       "[]"
      ]
     },
     "execution_count": 404,
     "metadata": {},
     "output_type": "execute_result"
    }
   ],
   "source": [
    "leticia.posts"
   ]
  },
  {
   "cell_type": "code",
   "execution_count": 405,
   "id": "c85f1f7a",
   "metadata": {},
   "outputs": [
    {
     "data": {
      "text/plain": [
       "True"
      ]
     },
     "execution_count": 405,
     "metadata": {},
     "output_type": "execute_result"
    }
   ],
   "source": [
    "leticia.adicionar_amigos(nathalia)\n",
    "leticia.adicionar_amigos(diego)\n",
    "nathalia.adicionar_amigos(diego)"
   ]
  },
  {
   "cell_type": "code",
   "execution_count": 406,
   "id": "f0b53f25",
   "metadata": {},
   "outputs": [
    {
     "data": {
      "text/plain": [
       "2"
      ]
     },
     "execution_count": 406,
     "metadata": {},
     "output_type": "execute_result"
    }
   ],
   "source": [
    "leticia.calcular_quantidade_amigos()"
   ]
  },
  {
   "cell_type": "code",
   "execution_count": 407,
   "id": "4aff26a7",
   "metadata": {},
   "outputs": [
    {
     "data": {
      "text/plain": [
       "2"
      ]
     },
     "execution_count": 407,
     "metadata": {},
     "output_type": "execute_result"
    }
   ],
   "source": [
    "nathalia.calcular_quantidade_amigos()"
   ]
  },
  {
   "cell_type": "code",
   "execution_count": 408,
   "id": "aaf4a414",
   "metadata": {},
   "outputs": [
    {
     "data": {
      "text/plain": [
       "True"
      ]
     },
     "execution_count": 408,
     "metadata": {},
     "output_type": "execute_result"
    }
   ],
   "source": [
    "leticia.adicionar_post('Post número 1')\n",
    "leticia.adicionar_post('Segundo post')\n",
    "leticia.adicionar_post('Terceiro post de teste')\n",
    "\n",
    "diego.adicionar_post('Primeiro post Diego')\n",
    "diego.adicionar_post('Post dois Diego')\n",
    "diego.adicionar_post('Este é o terceiro post do Diego')"
   ]
  },
  {
   "cell_type": "code",
   "execution_count": 409,
   "id": "41f7a119",
   "metadata": {},
   "outputs": [
    {
     "data": {
      "text/plain": [
       "3"
      ]
     },
     "execution_count": 409,
     "metadata": {},
     "output_type": "execute_result"
    }
   ],
   "source": [
    "leticia.calcular_quantidade_posts()"
   ]
  },
  {
   "cell_type": "code",
   "execution_count": 410,
   "id": "bc454663",
   "metadata": {},
   "outputs": [
    {
     "data": {
      "text/plain": [
       "True"
      ]
     },
     "execution_count": 410,
     "metadata": {},
     "output_type": "execute_result"
    }
   ],
   "source": [
    "leticia.adicionar_interesses('Viajar')\n",
    "leticia.adicionar_interesses('Desenhar')\n",
    "leticia.adicionar_interesses('Livros')\n",
    "leticia.adicionar_interesses('Filmes')"
   ]
  },
  {
   "cell_type": "code",
   "execution_count": 411,
   "id": "db449609",
   "metadata": {},
   "outputs": [
    {
     "data": {
      "text/plain": [
       "{'Diego': ['Primeiro post Diego',\n",
       "  'Post dois Diego',\n",
       "  'Este é o terceiro post do Diego']}"
      ]
     },
     "execution_count": 411,
     "metadata": {},
     "output_type": "execute_result"
    }
   ],
   "source": [
    "leticia.mostrar_posts_amigos()"
   ]
  },
  {
   "cell_type": "code",
   "execution_count": 412,
   "id": "23c6a1c1",
   "metadata": {},
   "outputs": [
    {
     "data": {
      "text/plain": [
       "[]"
      ]
     },
     "execution_count": 412,
     "metadata": {},
     "output_type": "execute_result"
    }
   ],
   "source": [
    "leticia.procurar_posts_relacionados('oi')"
   ]
  },
  {
   "cell_type": "code",
   "execution_count": 413,
   "id": "200fc1c1",
   "metadata": {},
   "outputs": [
    {
     "data": {
      "text/plain": [
       "['Post número 1']"
      ]
     },
     "execution_count": 413,
     "metadata": {},
     "output_type": "execute_result"
    }
   ],
   "source": [
    "leticia.procurar_posts_relacionados('post número')"
   ]
  },
  {
   "cell_type": "code",
   "execution_count": 414,
   "id": "828b5c56",
   "metadata": {},
   "outputs": [
    {
     "data": {
      "text/plain": [
       "{'Letícia': ['Post número 1', 'Segundo post', 'Terceiro post de teste']}"
      ]
     },
     "execution_count": 414,
     "metadata": {},
     "output_type": "execute_result"
    }
   ],
   "source": [
    "diego.mostrar_posts_amigos()"
   ]
  },
  {
   "cell_type": "code",
   "execution_count": 415,
   "id": "859d85c8",
   "metadata": {
    "scrolled": true
   },
   "outputs": [
    {
     "data": {
      "text/plain": [
       "{'Letícia': ['Post número 1', 'Segundo post', 'Terceiro post de teste'],\n",
       " 'Diego': ['Primeiro post Diego',\n",
       "  'Post dois Diego',\n",
       "  'Este é o terceiro post do Diego']}"
      ]
     },
     "execution_count": 415,
     "metadata": {},
     "output_type": "execute_result"
    }
   ],
   "source": [
    "nathalia.mostrar_posts_amigos()"
   ]
  }
 ],
 "metadata": {
  "kernelspec": {
   "display_name": "Python 3",
   "language": "python",
   "name": "python3"
  },
  "language_info": {
   "codemirror_mode": {
    "name": "ipython",
    "version": 3
   },
   "file_extension": ".py",
   "mimetype": "text/x-python",
   "name": "python",
   "nbconvert_exporter": "python",
   "pygments_lexer": "ipython3",
   "version": "3.8.8"
  }
 },
 "nbformat": 4,
 "nbformat_minor": 5
}
