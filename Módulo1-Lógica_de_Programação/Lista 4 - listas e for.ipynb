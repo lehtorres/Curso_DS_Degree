{
 "cells": [
  {
   "cell_type": "markdown",
   "metadata": {},
   "source": [
    "# Lista 4 - listas e for"
   ]
  },
  {
   "cell_type": "markdown",
   "metadata": {},
   "source": [
    "1.Crie uma lista qualquer e faça um programa que imprima cada elemento da lista usando o for."
   ]
  },
  {
   "cell_type": "code",
   "execution_count": 6,
   "metadata": {},
   "outputs": [
    {
     "name": "stdout",
     "output_type": "stream",
     "text": [
      "1\n",
      "2\n",
      "oi\n",
      "True\n",
      "-9\n"
     ]
    }
   ],
   "source": [
    "lista = [1, 2, \"oi\", True, -9]\n",
    "\n",
    "for elemento in lista:\n",
    "    \n",
    "    print(elemento)"
   ]
  },
  {
   "cell_type": "markdown",
   "metadata": {},
   "source": [
    "2.Faça um programa que imprima todos os itens de uma lista usando while e compare com o exercício 1. \n"
   ]
  },
  {
   "cell_type": "code",
   "execution_count": 9,
   "metadata": {},
   "outputs": [
    {
     "name": "stdout",
     "output_type": "stream",
     "text": [
      "1\n",
      "2\n",
      "oi\n",
      "True\n",
      "-9\n"
     ]
    }
   ],
   "source": [
    "lista = [1, 2, \"oi\", True, -9]\n",
    "\n",
    "elemento = 0\n",
    "\n",
    "while elemento < len(lista):\n",
    "    \n",
    "    print(lista[elemento])\n",
    "   \n",
    "    elemento = elemento + 1"
   ]
  },
  {
   "cell_type": "markdown",
   "metadata": {},
   "source": [
    "\n",
    "3.Faça um programa que peça para o usuário digitar um número n e imprima uma lista com todos os números de 0 a n-1. Exemplo: se o usuário digitar 5, o programa deve imprimir [0, 1, 2, 3, 4] \n",
    "\n"
   ]
  },
  {
   "cell_type": "code",
   "execution_count": 1,
   "metadata": {},
   "outputs": [
    {
     "name": "stdout",
     "output_type": "stream",
     "text": [
      "Digite um número: 5\n",
      "[0, 1, 2, 3, 4]\n"
     ]
    }
   ],
   "source": [
    "#RESOLUÇÃO COM WHILE\n",
    "\n",
    "nums = []\n",
    "\n",
    "item = 0\n",
    "\n",
    "n = int(input(\"Digite um número: \"))\n",
    "\n",
    "while item < n:\n",
    "    \n",
    "    nums.append(item)\n",
    "    \n",
    "    item = item + 1\n",
    "    \n",
    "print(nums) "
   ]
  },
  {
   "cell_type": "code",
   "execution_count": 1,
   "metadata": {},
   "outputs": [
    {
     "name": "stdout",
     "output_type": "stream",
     "text": [
      "Digite um número: 7\n",
      "[0, 1, 2, 3, 4, 5, 6]\n"
     ]
    }
   ],
   "source": [
    "#RESOLUÇÃO COM FOR\n",
    "\n",
    "nums = []\n",
    "\n",
    "n = int(input(\"Digite um número: \"))\n",
    "\n",
    "for item in range(n):\n",
    "    \n",
    "    nums.append(item)\n",
    "\n",
    "print(nums)"
   ]
  },
  {
   "cell_type": "markdown",
   "metadata": {},
   "source": [
    "4.Faça um programa que olhe todos os itens de uma lista e diga quantos deles são pares. \n",
    "\n"
   ]
  },
  {
   "cell_type": "code",
   "execution_count": 2,
   "metadata": {
    "scrolled": true
   },
   "outputs": [
    {
     "name": "stdout",
     "output_type": "stream",
     "text": [
      "5\n"
     ]
    }
   ],
   "source": [
    "lista_nums = [4, 6, -3, 1, 5, -8, 9, -14, 1565, 12317, 1233, 129, -765432, 54321, 6543__ELABORAÇÃO: mostrar quais são os números pares__]\n",
    "\n",
    "cont = 0\n",
    "\n",
    "for item in lista_nums:\n",
    "    \n",
    "    if item %2 == 0:\n",
    "        \n",
    "        cont = cont + 1\n",
    "\n",
    "print(cont)"
   ]
  },
  {
   "cell_type": "markdown",
   "metadata": {},
   "source": [
    "__ELABORAÇÃO: mostrar quais são os números pares__"
   ]
  },
  {
   "cell_type": "code",
   "execution_count": 3,
   "metadata": {},
   "outputs": [
    {
     "name": "stdout",
     "output_type": "stream",
     "text": [
      "Quantidade de números pares: 5\n",
      "Eles são: [4, 6, -8, -14, -765432]\n"
     ]
    }
   ],
   "source": [
    "#NÃO FOI SOLICITADO, PROFESSOR FEZ COMO COMPLEMENTO\n",
    "\n",
    "lista = [4, 6, -3, 1, 5, -8, 9, -14, 1565, 12317, 1233, 129, -765432, 54321, 6543]\n",
    "\n",
    "# cria uma lista vazia, que vai armazenar os numeros pares\n",
    "pares = []\n",
    "\n",
    "for elemento in lista:\n",
    "    \n",
    "    if elemento % 2 == 0:\n",
    "        \n",
    "        # apenda os numeros pares à lista\n",
    "        pares.append(elemento)\n",
    "        \n",
    "# note que nao precisamos mais contar o numero de pares: basta tomar o comprimento da lista!\n",
    "print(\"Quantidade de números pares:\", len(pares))\n",
    "print(\"Eles são:\", pares)"
   ]
  },
  {
   "cell_type": "markdown",
   "metadata": {},
   "source": [
    "5.Faça um programa que imprima o maior número de uma lista, sem usar o método max().\n"
   ]
  },
  {
   "cell_type": "code",
   "execution_count": 4,
   "metadata": {},
   "outputs": [
    {
     "name": "stdout",
     "output_type": "stream",
     "text": [
      "98\n"
     ]
    }
   ],
   "source": [
    "lista_numeros = [1, 4, 5, 67, -45, 98]\n",
    "\n",
    "maior = lista[0]\n",
    "\n",
    "for elemento in lista_numeros:\n",
    "    \n",
    "    if elemento > maior:\n",
    "        \n",
    "        maior = elemento\n",
    "\n",
    "print(maior)"
   ]
  },
  {
   "cell_type": "markdown",
   "metadata": {},
   "source": [
    "\n",
    "6.Agora usando o método max() faça um programa que imprima os três maiores números de uma lista.  Dica: Use o método próprio de listas .remove(). \n",
    "\n"
   ]
  },
  {
   "cell_type": "code",
   "execution_count": 5,
   "metadata": {},
   "outputs": [
    {
     "name": "stdout",
     "output_type": "stream",
     "text": [
      "54321\n",
      "12317\n",
      "6543\n"
     ]
    }
   ],
   "source": [
    "lista_numeros = [4, 6, -3, 1, 5, -8, 9, -14, 1565, 12317, 1233, 129, -765432, 54321, 6543]\n",
    "\n",
    "print(max(lista_numeros))\n",
    "\n",
    "lista_numeros.remove(max(lista_numeros))\n",
    "\n",
    "print(max(lista_numeros))\n",
    "\n",
    "lista_numeros.remove(max(lista_numeros))\n",
    "\n",
    "print(max(lista_numeros))\n",
    "\n",
    "lista_numeros.remove(max(lista_numeros))"
   ]
  },
  {
   "cell_type": "markdown",
   "metadata": {},
   "source": [
    "7.Faça um programa que, dadas duas listas de mesmo tamanho, crie uma nova lista com cada elemento igual a soma dos elementos da lista 1 com os da lista 2, na mesma posição.  Exemplo: dadas lista1 = [1, 4, 5] e lista2 = [2, 2, 3], então lista3 = [1+2, 4+2, 5+3] = [3, 6, 8] \n",
    "\n"
   ]
  },
  {
   "cell_type": "code",
   "execution_count": 11,
   "metadata": {},
   "outputs": [
    {
     "name": "stdout",
     "output_type": "stream",
     "text": [
      "[3, 6, 8]\n"
     ]
    }
   ],
   "source": [
    "lista1 = [1, 4, 5]\n",
    "lista2 = [2, 2, 3]\n",
    "\n",
    "if len(lista1) != len(lista2):\n",
    "    \n",
    "    print(\"As listas têm comprimento diferente, não consigo somar\")\n",
    "\n",
    "else:\n",
    "    \n",
    "    lista3 = [(item1 + item2) for (item1, item2) in zip(lista1, lista2)] #entender o zip\n",
    "    \n",
    "    print(lista3)"
   ]
  },
  {
   "cell_type": "code",
   "execution_count": null,
   "metadata": {},
   "outputs": [],
   "source": [
    "# RESOLUÇÃO PROFESSOR\n",
    "\n",
    "# define a lista1\n",
    "lista1 = [2, 4, 1]\n",
    "\n",
    "# define a lista2\n",
    "lista2 = [3, 2, 5]\n",
    "\n",
    "# checa se as listas têm numero de elementos doferemtes -- se tiver, não dá pra fazer a soma!\n",
    "if len(lista1) != len(lista2):\n",
    "    \n",
    "    # se o tamanho das listas for diferente, avisa o erro!\n",
    "    print(\"As listas têm comprimento diferente, não consigo somar\")\n",
    "\n",
    "# se as listas tiverem o mesmo numero de elementos\n",
    "else:\n",
    "    \n",
    "    # define uma lista vazia, que vai conter a soma dos elementos\n",
    "    soma_das_listas = []\n",
    "    \n",
    "    # percorre o indice da lista. note que estamos usando o range!\n",
    "    # e tanto faz usar len(lista1) ou len(lista2), pq já garantimos que eles são iguais!\n",
    "    for indice in range(len(lista1)):\n",
    "        \n",
    "        # calcula a soma dos elementos, acessados pelo indice\n",
    "        soma_dos_elementos = lista1[indice] + lista2[indice]\n",
    "        \n",
    "        # apenda o a soma inicializada\n",
    "        soma_das_listas.append(soma_dos_elementos)\n",
    "\n",
    "    print(soma_das_listas)"
   ]
  },
  {
   "cell_type": "markdown",
   "metadata": {},
   "source": [
    "8.Faça  um  programa  que  dadas  duas  listas  de  mesmo  tamanho, imprima o produto escalar entre elas.  OBS: produto escalar é a soma do resultado da multiplicação entre o número na posição i da lista1 pelo número na posição i da lista2, com i variando de 0 ao tamanho da lista. \n"
   ]
  },
  {
   "cell_type": "code",
   "execution_count": 14,
   "metadata": {},
   "outputs": [
    {
     "name": "stdout",
     "output_type": "stream",
     "text": [
      "[2, 8, 15]\n"
     ]
    }
   ],
   "source": [
    "lista1 = [1, 4, 5]\n",
    "lista2 = [2, 2, 3]\n",
    "\n",
    "if len(lista1) != len(lista2):\n",
    "    \n",
    "    print(\"As listas têm comprimento diferente, não consigo somar\")\n",
    "\n",
    "else:\n",
    "    \n",
    "    lista_multiplica = [(item1 * item2) for (item1, item2) in zip(lista1, lista2)] #entender o zip\n",
    "    \n",
    "    print(lista_multiplica)"
   ]
  },
  {
   "cell_type": "code",
   "execution_count": null,
   "metadata": {},
   "outputs": [],
   "source": [
    "# RESOLUÇÃO PROFESSOR\n",
    "\n",
    "# define a lista1\n",
    "lista1 = [2, 4.75, 1, 10, -12.45]\n",
    "\n",
    "# define a lista2\n",
    "lista2 = [-5, 2, 5, -45.156, -2]\n",
    "\n",
    "# checa se as listas têm numero de elementos doferemtes -- se tiver, não dá pra fazer o produto escalar!\n",
    "if len(lista1) != len(lista2):\n",
    "    \n",
    "    # se o tamanho das listas for diferente, avisa o erro!\n",
    "    print(\"As listas têm comprimento diferente, não consigo calcular o produto escalar!\")\n",
    "\n",
    "# se as listas tiverem o mesmo numero de elementos\n",
    "else:\n",
    "    \n",
    "    # inicializa a variavel que vai conter o valor do produto escalar\n",
    "    produto_escalar = 0\n",
    "    \n",
    "    # percorre o indice das listas, usando o range(len())\n",
    "    for i in range(len(lista1)):\n",
    "        \n",
    "        # atualiza o produto escalar, com o produto dos elmentos, acessados pelo indice i\n",
    "        produto_escalar = produto_escalar + lista1[i]*lista2[i]\n",
    "        \n",
    "    print(produto_escalar)"
   ]
  },
  {
   "cell_type": "markdown",
   "metadata": {},
   "source": [
    "\n",
    "9.Faça um programa que pede para o usuário digitar 5 números e, ao final, imprime uma lista com os 5 números digitados pelo usuário (sem converter os números para int ou float).  Exemplo: Se o usuário digitar 1, 5, 2, 3, 6, o programa deve imprimir a lista ['1','5','2','3','6']  \n"
   ]
  },
  {
   "cell_type": "code",
   "execution_count": 57,
   "metadata": {},
   "outputs": [
    {
     "name": "stdout",
     "output_type": "stream",
     "text": [
      "Digite o 1º número: 1\n",
      "Digite o 2º número: 5\n",
      "Digite o 3º número: 2\n",
      "Digite o 4º número: 3\n",
      "Digite o 5º número: 6\n",
      "['1', '5', '2', '3', '6']\n"
     ]
    }
   ],
   "source": [
    "lista = []\n",
    "\n",
    "for i in range(1, 6): # também funciona com 'range(5)'\n",
    "    \n",
    "    item = input(f\"Digite o {i}º número: \")\n",
    "    \n",
    "    lista.append(item)\n",
    "    \n",
    "print(lista)"
   ]
  },
  {
   "cell_type": "markdown",
   "metadata": {},
   "source": [
    "__ELABORAÇÃO: antes pergunta pro usuário quantos números ele quer armazenar__"
   ]
  },
  {
   "cell_type": "code",
   "execution_count": null,
   "metadata": {},
   "outputs": [],
   "source": [
    "# NÃO FOI PEDIDO, PROFESSOR RESOLVEU FAZER UMA POSSIBILIDADE MAIS AMPLA\n",
    "\n",
    "numeros = []\n",
    "\n",
    "# pergunt pro usuario quantos numeros ele vai querer armazenar na lista\n",
    "quantos_numeros = int(input(\"Quantos números vc quer armazenar? \"))\n",
    "\n",
    "# repete o numero de vezes que o usuario desejar\n",
    "for aux in range(quantos_numeros):\n",
    "\n",
    "    n = input(\"Digite um número: \")\n",
    "    \n",
    "    numeros.append(n)\n",
    "    \n",
    "print(\"\\n\")\n",
    "print(numeros)"
   ]
  },
  {
   "cell_type": "markdown",
   "metadata": {},
   "source": [
    "\n",
    "10.Pegue a lista gerada no exercício anterior e transforme cada um dos itens dessa lista em um float.  OBS: Não é para alterar o programa anterior, mas sim a lista gerada por ele. \n",
    "\n"
   ]
  },
  {
   "cell_type": "code",
   "execution_count": 60,
   "metadata": {},
   "outputs": [
    {
     "name": "stdout",
     "output_type": "stream",
     "text": [
      "[1.0, 5.0, 2.0, 3.0, 6.0]\n"
     ]
    }
   ],
   "source": [
    "lista = [float(elemento) for elemento in lista]\n",
    "\n",
    "print(lista)"
   ]
  },
  {
   "cell_type": "code",
   "execution_count": null,
   "metadata": {},
   "outputs": [],
   "source": [
    "# OUTRA OPÇÃO DE RESOLUÇÃO - PROFESSOR\n",
    "\n",
    "# exibe a lista de strings, antes de trasnformarmos em floats\n",
    "print(\"lista de strings:\")\n",
    "print(numeros)\n",
    "\n",
    "# vamos alterar a lista do exercício anterior (que demos o nome de \"numeros\")\n",
    "# percorre os indices dessa lista\n",
    "for i in range(len(numeros)):\n",
    "    \n",
    "    # acessa os elementos da lista através do indice i, e depois os altera\n",
    "    # a alteração é: transforma as strings em float, com a função float()\n",
    "    numeros[i] = float(numeros[i])\n",
    "    \n",
    "print(\"\\nlista de strings trasnformada em lista de floats:\")\n",
    "print(numeros)"
   ]
  },
  {
   "cell_type": "markdown",
   "metadata": {},
   "source": [
    "11.Faça um Programa que peça as 4 notas bimestrais e mostre a média aritmética delas, usando listas.  \n",
    "\n"
   ]
  },
  {
   "cell_type": "code",
   "execution_count": 48,
   "metadata": {},
   "outputs": [
    {
     "name": "stdout",
     "output_type": "stream",
     "text": [
      "Digite a 1ª nota: 10\n",
      "Digite a 2ª nota: 0\n",
      "Digite a 3ª nota: 6\n",
      "Digite a 4ª nota: 4\n",
      "5.0\n"
     ]
    }
   ],
   "source": [
    "lista_notas = []\n",
    "\n",
    "for i in range (1, 5): # pode ser range(4)\n",
    "    \n",
    "    nota = float(input(f\"Digite a {i}ª nota: \")) # terá que ser str(i+1) porque começaria com 0\n",
    "    \n",
    "    lista_notas.append(nota)\n",
    "    \n",
    "media = sum(lista_notas)/len(lista_notas)\n",
    "print(media)"
   ]
  },
  {
   "cell_type": "markdown",
   "metadata": {},
   "source": [
    "12.Sorteie uma lista de 10 números e imprima: \n",
    "\n",
    "- a.uma lista com os 4 primeiros números; \n",
    "- b.uma lista com os 5 últimos números; \n",
    "- c.uma lista contendo apenas os elementos das posições pares; \n",
    "- d.uma lista contendo apenas os elementos das posições ímpares; \n",
    "- e.a lista inversa da lista sorteada (isto é, uma lista que começa com o último elemento da lista sorteada e termina com o primeiro); \n",
    "- f.uma lista inversa dos 5 primeiros números; \n",
    "- g.uma lista inversa dos 5 últimos números. \n",
    "\n"
   ]
  },
  {
   "cell_type": "code",
   "execution_count": 4,
   "metadata": {},
   "outputs": [
    {
     "data": {
      "text/plain": [
       "[5, 10, 4, 4, 0, 6, 10, 10, 6, 6]"
      ]
     },
     "execution_count": 4,
     "metadata": {},
     "output_type": "execute_result"
    }
   ],
   "source": [
    "from random import randint\n",
    "\n",
    "lista_sorteados = []\n",
    "\n",
    "for item in range(0,10):\n",
    "    \n",
    "    item = randint(0,10)\n",
    "    \n",
    "    lista_sorteados.append(item)\n",
    "    \n",
    "lista_sorteados"
   ]
  },
  {
   "cell_type": "code",
   "execution_count": 5,
   "metadata": {},
   "outputs": [
    {
     "data": {
      "text/plain": [
       "[5, 10, 4, 4]"
      ]
     },
     "execution_count": 5,
     "metadata": {},
     "output_type": "execute_result"
    }
   ],
   "source": [
    "lista_sorteados[:4] # (a)"
   ]
  },
  {
   "cell_type": "code",
   "execution_count": 6,
   "metadata": {},
   "outputs": [
    {
     "data": {
      "text/plain": [
       "[6, 10, 10, 6, 6]"
      ]
     },
     "execution_count": 6,
     "metadata": {},
     "output_type": "execute_result"
    }
   ],
   "source": [
    "lista_sorteados[5:] # (b) # PODERIA SER [-5:]"
   ]
  },
  {
   "cell_type": "code",
   "execution_count": 7,
   "metadata": {},
   "outputs": [
    {
     "data": {
      "text/plain": [
       "[5, 4, 0, 10, 6]"
      ]
     },
     "execution_count": 7,
     "metadata": {},
     "output_type": "execute_result"
    }
   ],
   "source": [
    "lista_sorteados[::2] # (c)"
   ]
  },
  {
   "cell_type": "code",
   "execution_count": 8,
   "metadata": {},
   "outputs": [
    {
     "data": {
      "text/plain": [
       "[10, 4, 6, 10, 6]"
      ]
     },
     "execution_count": 8,
     "metadata": {},
     "output_type": "execute_result"
    }
   ],
   "source": [
    "lista_sorteados[1::2] # (d)"
   ]
  },
  {
   "cell_type": "code",
   "execution_count": 9,
   "metadata": {},
   "outputs": [
    {
     "data": {
      "text/plain": [
       "[6, 6, 10, 10, 6, 0, 4, 4, 10, 5]"
      ]
     },
     "execution_count": 9,
     "metadata": {},
     "output_type": "execute_result"
    }
   ],
   "source": [
    "lista_sorteados[::-1] # (e)"
   ]
  },
  {
   "cell_type": "code",
   "execution_count": 20,
   "metadata": {},
   "outputs": [
    {
     "data": {
      "text/plain": [
       "[0, 4, 4, 10, 5]"
      ]
     },
     "execution_count": 20,
     "metadata": {},
     "output_type": "execute_result"
    }
   ],
   "source": [
    "lista_sorteados[0:5][::-1] # (f)"
   ]
  },
  {
   "cell_type": "code",
   "execution_count": 12,
   "metadata": {
    "scrolled": true
   },
   "outputs": [
    {
     "data": {
      "text/plain": [
       "[6, 6, 10, 10, 6]"
      ]
     },
     "execution_count": 12,
     "metadata": {},
     "output_type": "execute_result"
    }
   ],
   "source": [
    "lista_sorteados[:4:-1] # (g) "
   ]
  },
  {
   "cell_type": "code",
   "execution_count": null,
   "metadata": {},
   "outputs": [],
   "source": [
    "# RESOLUÇÃO PROFESSOR\n",
    "\n",
    "# para sortear números aleatórios, usamos a biblioteca random\n",
    "import random\n",
    "\n",
    "# parar criar uma lista com 10 números aleatorios, usamos a função sample\n",
    "# o primeiro argumento, que é o range(), indica qual o intervalo de numeros aleatorios que queremos\n",
    "# no caso, range(0, 100), quer dizer que queremos numeros aleatorios entre 0 e 100\n",
    "# o segundo argumento indica quantos numeros aleatórios queremos, no caso, 10\n",
    "lista = random.sample(range(0,100), 10)\n",
    "\n",
    "################################################\n",
    "\n",
    "print(\"lista original:\", lista, \"\\n\")\n",
    "\n",
    "################################################\n",
    "\n",
    "#a) 4 primeiros\n",
    "\n",
    "print(\"a) 4 primeiros\", lista[:4])\n",
    "\n",
    "################################################\n",
    "\n",
    "#b) 5 ultimos\n",
    "\n",
    "print(\"b) 5 ultimos\", lista[-5:])\n",
    "\n",
    "################################################\n",
    "\n",
    "#c) elementos em posição par\n",
    "\n",
    "# cria uma lista que vai armazenar os elementos em posição par\n",
    "posicao_par = []\n",
    "\n",
    "# pecorre os indices\n",
    "for i in range(len(lista)):\n",
    "    \n",
    "    # se o indice for par\n",
    "    if i % 2 == 0:\n",
    "        \n",
    "        # apenda o respectivo elemento à lista\n",
    "        posicao_par.append(lista[i])\n",
    "        \n",
    "print(\"c) elementos em posição par\", posicao_par)\n",
    "\n",
    "################################################\n",
    "\n",
    "#d) elementos em posição impar\n",
    "\n",
    "# analogo ao intem anterior!\n",
    "\n",
    "posicao_impar = []\n",
    "for i in range(len(lista)):\n",
    "    \n",
    "    # aqui, checamos se o indice é impar\n",
    "    if i % 2 != 0:\n",
    "        \n",
    "        posicao_impar.append(lista[i])\n",
    "        \n",
    "print(\"d) elementos em posição impar\", posicao_impar)\n",
    "\n",
    "################################################\n",
    "\n",
    "#e) lista inversa\n",
    "\n",
    "# pra inverter a lista, usamos o [::-1]\n",
    "print(\"e) lista inversa\", lista[::-1])\n",
    "\n",
    "################################################\n",
    "\n",
    "#f) lista inversa, 5 primeiros\n",
    "print(\"f) lista inversa, 5 primeiros\", lista[::-1][:5])\n",
    "\n",
    "################################################\n",
    "\n",
    "#g) lista inversa, 5 ultimos\n",
    "print(\"g) lista inversa, 5 ultimos\", lista[::-1][-5:])\n",
    "\n",
    "################################################"
   ]
  },
  {
   "cell_type": "markdown",
   "metadata": {},
   "source": [
    "13.Faça  um programa que sorteia 10 números entre 0 e 100 e conte quantos números sorteados são maiores que 50. \n"
   ]
  },
  {
   "cell_type": "code",
   "execution_count": 21,
   "metadata": {},
   "outputs": [
    {
     "name": "stdout",
     "output_type": "stream",
     "text": [
      "[90, 93, 78, 81, 52, 71, 16, 49, 63, 53]\n",
      "\n",
      "Foram sorteados 8 números maiores que 50.\n"
     ]
    }
   ],
   "source": [
    "from random import randint\n",
    "\n",
    "lista_sorteio = [] # pode trazer a lista direto com o sorteio: 'sorteados = random.sample(range(0,100), 10)'\n",
    "\n",
    "cont = 0\n",
    "\n",
    "for item in range(0,10):\n",
    "    \n",
    "    item = randint(0,100)\n",
    "    \n",
    "    lista_sorteio.append(item)\n",
    "    \n",
    "    if item > 50:\n",
    "        \n",
    "        cont = cont + 1\n",
    "    \n",
    "print(lista_sorteio)\n",
    "\n",
    "print(f\"\\nForam sorteados {cont} números maiores que 50.\")"
   ]
  },
  {
   "cell_type": "markdown",
   "metadata": {},
   "source": [
    "\n",
    "14.Faça um programa que sorteie 10 números entre 0 e 100 e imprima: \n",
    "\n",
    "- a.o maior número sorteado;\n",
    "- b.o menor número sorteado; \n",
    "- c.a média dos números sorteados; \n",
    "- d.a soma dos números sorteados."
   ]
  },
  {
   "cell_type": "code",
   "execution_count": 111,
   "metadata": {},
   "outputs": [
    {
     "data": {
      "text/plain": [
       "[73, 70, 100, 68, 39, 16, 70, 14, 88, 98]"
      ]
     },
     "execution_count": 111,
     "metadata": {},
     "output_type": "execute_result"
    }
   ],
   "source": [
    "from random import randint\n",
    "\n",
    "lista_sorteio = []\n",
    "\n",
    "for item in range(0,10):\n",
    "    \n",
    "    item = randint(0,100)\n",
    "    \n",
    "    lista_sorteio.append(item)\n",
    "    \n",
    "lista_sorteio\n",
    "\n",
    "# ISSO TUDO POR SER RESUMIDO PARA: 'sorteados = random.sample(range(0,100), 10)'"
   ]
  },
  {
   "cell_type": "code",
   "execution_count": 112,
   "metadata": {},
   "outputs": [
    {
     "data": {
      "text/plain": [
       "100"
      ]
     },
     "execution_count": 112,
     "metadata": {},
     "output_type": "execute_result"
    }
   ],
   "source": [
    "max(lista_sorteio) # a"
   ]
  },
  {
   "cell_type": "code",
   "execution_count": 113,
   "metadata": {},
   "outputs": [
    {
     "data": {
      "text/plain": [
       "14"
      ]
     },
     "execution_count": 113,
     "metadata": {},
     "output_type": "execute_result"
    }
   ],
   "source": [
    "min(lista_sorteio) # b"
   ]
  },
  {
   "cell_type": "code",
   "execution_count": 114,
   "metadata": {},
   "outputs": [
    {
     "data": {
      "text/plain": [
       "63.6"
      ]
     },
     "execution_count": 114,
     "metadata": {},
     "output_type": "execute_result"
    }
   ],
   "source": [
    "media = sum(lista_sorteio)/len(lista_sorteio) # c\n",
    "\n",
    "media"
   ]
  },
  {
   "cell_type": "code",
   "execution_count": 115,
   "metadata": {},
   "outputs": [
    {
     "data": {
      "text/plain": [
       "636"
      ]
     },
     "execution_count": 115,
     "metadata": {},
     "output_type": "execute_result"
    }
   ],
   "source": [
    "sum(lista_sorteio) # d"
   ]
  },
  {
   "cell_type": "markdown",
   "metadata": {},
   "source": [
    "_____\n",
    "____\n",
    "_____\n",
    "____"
   ]
  },
  {
   "cell_type": "markdown",
   "metadata": {},
   "source": [
    "# DESAFIOS"
   ]
  },
  {
   "cell_type": "markdown",
   "metadata": {},
   "source": [
    "1.Faça um programa que peça para o usuário digitar o nome e a idade de um aluno e o número de provas que esse aluno fez. Depois, o programa deve pedir para o usuário digitar as notas de cada prova do aluno. Ao final o programa deve imprimir uma lista contendo: \n",
    "\n",
    "- a.Nome do aluno na posição 0 \n",
    "- b.Idade do aluno na posição 1 \n",
    "- c.Uma lista com todas as notas na posição 2  \n",
    "- d.A média do aluno na posição 3 \n",
    "- e.True ou False, caso a média seja maior que 5 ou não, na posição 4\n",
    "\n",
    "Dica: Use o que você fez nos exercícios anteriores para criar esse programa. "
   ]
  },
  {
   "cell_type": "code",
   "execution_count": 16,
   "metadata": {},
   "outputs": [
    {
     "name": "stdout",
     "output_type": "stream",
     "text": [
      "Digite o nome do aluno: leh\n",
      "Digite a idade do aluno: 23\n",
      "Digite a quantidade de provas: 2\n",
      "Digite a 1ª nota: 10\n",
      "Digite a 2ª nota: 0\n"
     ]
    },
    {
     "data": {
      "text/plain": [
       "['leh', 23, [10.0, 0.0], 5.0, True]"
      ]
     },
     "execution_count": 16,
     "metadata": {},
     "output_type": "execute_result"
    }
   ],
   "source": [
    "lista_notas = []\n",
    "b_med = False\n",
    "\n",
    "nome = str(input(\"Digite o nome do aluno: \"))\n",
    "idade = int(input(\"Digite a idade do aluno: \"))\n",
    "qtd_provas = int(input(\"Digite a quantidade de provas: \"))\n",
    "\n",
    "for i in range(qtd_provas):\n",
    "    \n",
    "    nota = float(input(f\"Digite a {i+1}ª nota: \"))\n",
    "    \n",
    "    lista_notas.append(nota)\n",
    "    \n",
    "media = sum(lista_notas)/len(lista_notas)\n",
    "\n",
    "if media >= 5:\n",
    "    b_med = True\n",
    "\n",
    "dados_aluno = [nome, idade, lista_notas, media, b_med]\n",
    "\n",
    "dados_aluno"
   ]
  },
  {
   "cell_type": "markdown",
   "metadata": {},
   "source": [
    "\n",
    "2.Faça um programa como o do item anterior, porém que imprima a média sem considerar a maior e menor nota do aluno (nesse caso o número de provas precisa ser obrigatoriamente maior que dois).  Dica: crie uma cópia com a lista de todas as notas antes de fazer a média. \n",
    "\n"
   ]
  },
  {
   "cell_type": "code",
   "execution_count": 18,
   "metadata": {},
   "outputs": [
    {
     "name": "stdout",
     "output_type": "stream",
     "text": [
      "Digite o nome do aluno: andré\n",
      "Digite a idade do aluno: 22\n",
      "Digite a quantidade de provas: 5\n",
      "Digite a 1ª nota: 6\n",
      "Digite a 2ª nota: 3.4\n",
      "Digite a 3ª nota: 9\n",
      "Digite a 4ª nota: 7\n",
      "Digite a 5ª nota: 8.5\n",
      "['andré', 22, [6.0, 3.4, 9.0, 7.0, 8.5], 7.166666666666667, True]\n"
     ]
    }
   ],
   "source": [
    "lista_notas = []\n",
    "b_med = False\n",
    "\n",
    "nome = str(input(\"Digite o nome do aluno: \"))\n",
    "idade = int(input(\"Digite a idade do aluno: \"))\n",
    "qtd_provas = int(input(\"Digite a quantidade de provas: \"))\n",
    "\n",
    "for i in range(qtd_provas):\n",
    "    \n",
    "    nota = float(input(f\"Digite a {i+1}ª nota: \"))\n",
    "    \n",
    "    lista_notas.append(nota)\n",
    "\n",
    "copia_lista = lista_notas.copy()\n",
    "\n",
    "lista_notas.remove(max(lista_notas))\n",
    "lista_notas.remove(min(lista_notas))\n",
    "\n",
    "media = (sum(lista_notas))/(len(lista_notas))\n",
    "\n",
    "if media >= 5:\n",
    "    b_med = True\n",
    "   \n",
    "    \n",
    "dados_aluno = [nome, idade, copia_lista, media, b_med]\n",
    "\n",
    "print(dados_aluno)"
   ]
  },
  {
   "cell_type": "code",
   "execution_count": 26,
   "metadata": {},
   "outputs": [
    {
     "name": "stdout",
     "output_type": "stream",
     "text": [
      "Digite o nome do aluno: Zé\n",
      "Digite a idade do aluno: 16\n",
      "Digite a quantidade de provas: 3\n",
      "Digite a 1ª nota: 10\n",
      "Digite a 2ª nota: 5\n",
      "Digite a 3ª nota: 3\n",
      "['Zé', 16, [10.0, 5.0, 3.0], 5.0, False]\n",
      "[10.0, 5.0, 3.0]\n"
     ]
    }
   ],
   "source": [
    "# OPÇÃO 2\n",
    "dados_aluno = []\n",
    "lista_notas = []\n",
    "b_med = False\n",
    "\n",
    "nome = str(input(\"Digite o nome do aluno: \"))\n",
    "idade = int(input(\"Digite a idade do aluno: \"))\n",
    "qtd_provas = int(input(\"Digite a quantidade de provas: \"))\n",
    "\n",
    "for i in range(0,qtd_provas):\n",
    "    \n",
    "    nota = float(input(f\"Digite a {i+1}ª nota: \"))\n",
    "    \n",
    "    lista_notas.append(nota)\n",
    "\n",
    "#soma = sum(lista_notas) - max(lista_notas) - min(lista_notas)\n",
    "\n",
    "media = (sum(lista_notas) - max(lista_notas) - min(lista_notas))/(len(lista_notas)-2)\n",
    "\n",
    "if media > 5:\n",
    "    b_med = True\n",
    "   \n",
    "    \n",
    "dados_aluno.append(nome)\n",
    "dados_aluno.append(idade)\n",
    "dados_aluno.append(lista_notas)\n",
    "dados_aluno.append(media)\n",
    "dados_aluno.append(b_med)\n",
    "\n",
    "print(dados_aluno)\n",
    "\n",
    "print(lista_notas)"
   ]
  },
  {
   "cell_type": "markdown",
   "metadata": {},
   "source": [
    "\n",
    "3.Faça um programa que pede para o usuário digitar o CPF e verifica se ele é válido. Para isso, primeiramente o programa deve multiplicar cada um dos 9 primeiros dígitos do CPF pelos números de 10 a 2 e somar todas as respostas. O resultado deve ser multiplicado por 10 e dividido por 11. O resto dessa divisão deve ser igual ao primeiro dígito verificador (10º dígito). Em seguida, o programa deve multiplicar cada \n",
    "um dos 10 primeiros dígitos do CPF pelos números de 11 a 2 e repetir o procedimento anterior para verificar o segundo dígito verificador. \n",
    "\n",
    "Exemplo:Se o CPF for 286.255.878-87 o programa deve fazer primeiro:\n",
    "\n",
    "- x = (2\\*10 + 8\\*9 + 6\\*8 + 2\\*7 + 5\\*6 + 5\\*5 + 8\\*4 + 7\\*3 + 8\\*2).  \n",
    "\n",
    "Em seguida o programa deve testar se x\\*10%11 == 8 (o décimo número do CPF).  \n",
    "\n",
    "Se sim, o programa deve calcular  \n",
    "\n",
    "- x = (2\\*11 + 8\\*10 + 6\\*9 + 2\\*8 + 5\\*7 + 5\\*6 + 8\\*5 + 7\\*4 + 8\\*3 + 8\\*2)\n",
    "\n",
    "e verificar se x\\*10%11 == 7 (o décimo primeiro número do CPF)\n",
    "\n",
    "**Observação Importante: Se o resto da divisão for igual a 10, nós o consideramos como 0**"
   ]
  },
  {
   "cell_type": "code",
   "execution_count": 58,
   "metadata": {},
   "outputs": [
    {
     "name": "stdout",
     "output_type": "stream",
     "text": [
      "Digite seu cpf: 45586260883\n",
      "O CPF 455.862.608-83 é válido!\n"
     ]
    }
   ],
   "source": [
    "def check_cpf(cpf, v, n):\n",
    "\n",
    "    x = 0\n",
    "    verif = list(range(2,v)[::-1])\n",
    "\n",
    "    for i, num in zip(verif, cpf):\n",
    "        num = int(num)\n",
    "        x = x + i*num\n",
    "        \n",
    "    return x*10%11 == int(cpf[-n])\n",
    "\n",
    "cpf = list(input(\"Digite seu cpf: \"))\n",
    "\n",
    "if check_cpf(cpf, 11, 2) == True and check_cpf(cpf, 12, 1) == True:\n",
    "    cpf = \"\".join(cpf).format()\n",
    "    cpf = '{}.{}.{}-{}'.format(cpf[:3], cpf[3:6], cpf[6:9], cpf[9:])\n",
    "    print(f\"O CPF {cpf} é válido!\")\n",
    "\n",
    "else: \n",
    "    cpf = \"\".join(cpf)\n",
    "    cpf = '{}.{}.{}-{}'.format(cpf[:3], cpf[3:6], cpf[6:9], cpf[9:])\n",
    "    print(f\"O CPF {cpf} NÃO é válido!\")\n"
   ]
  },
  {
   "cell_type": "code",
   "execution_count": null,
   "metadata": {},
   "outputs": [],
   "source": [
    "# RESOLUÇÃO COLEGA\n",
    "def valida_cpf(cpf):\n",
    "    cpf = [int(num) for num in cpf]\n",
    "\n",
    "    verif = list(range(2,11))[::-1]\n",
    "    x1 = (sum([ num*verif[i] for i, num in enumerate(cpf[:-2])]) * 10) % 11\n",
    "    if x1 != cpf[9]:\n",
    "        return False\n",
    "    \n",
    "    verif = list(range(2,12))[::-1]\n",
    "    x2 = (sum([ num*verif[i] for i, num in enumerate(cpf[:-1])]) * 10) % 11\n",
    "    if x2 != cpf[10]:\n",
    "        return False\n",
    "\n",
    "    return True"
   ]
  },
  {
   "cell_type": "markdown",
   "metadata": {},
   "source": [
    "__ELABORAÇÃO: como resolver esse exercício sabendo de strings?__"
   ]
  },
  {
   "cell_type": "code",
   "execution_count": null,
   "metadata": {},
   "outputs": [],
   "source": [
    "# RESOLUÇÃO PROFESSOR\n",
    "\n",
    "# nao convertemos o cpf pra numero, deixa ele como string!\n",
    "cpf =  input(\"Digite seu cpf: \")\n",
    "\n",
    "# pra retirar pontos ou traço, caso o usuario os digite\n",
    "cpf = cpf.replace(\".\", \"\")\n",
    "cpf = cpf.replace(\"-\", \"\")\n",
    "\n",
    "###################################################\n",
    "\n",
    "# essa é a unica parte que muda\n",
    "# note que não precisamos fazer aqueles calculos pra captar cada digito!\n",
    "# basta usar a função list(), aplicada à string!\n",
    "lista_digitos = list(cpf)\n",
    "\n",
    "for i in range(len(lista_digitos)):\n",
    "    lista_digitos[i] = int(lista_digitos[i])\n",
    "    \n",
    "###################################################\n",
    "\n",
    "primeira_soma = 0\n",
    "\n",
    "for i in range(9):\n",
    "    \n",
    "    # pra entender a multiplicação feita em cada passo\n",
    "    #print(lista_digitos[i], (10-i), lista_digitos[i]*(10-i))\n",
    "    \n",
    "    primeira_soma = primeira_soma + lista_digitos[i]*(10-i)\n",
    "\n",
    "# caso o resto for 10, considere 0\n",
    "check1 = (primeira_soma*10) % 11\n",
    "if check1 == 10:\n",
    "    check1 = 0\n",
    "    \n",
    "# primeira verificação\n",
    "if check1 == lista_digitos[-2]: \n",
    "\n",
    "    segunda_soma = 0\n",
    "\n",
    "    for i in range(10):\n",
    "\n",
    "        # pra entender a multiplicação feita em cada passo\n",
    "        #print(lista_digitos[i], (11-i))\n",
    "\n",
    "        segunda_soma = segunda_soma + lista_digitos[i]*(11-i)\n",
    "        \n",
    "    # caso o resto for 10, considere 0\n",
    "    check2 = (segunda_soma*10) % 11\n",
    "    if check2 == 10:\n",
    "        check2 = 0\n",
    "      \n",
    "    # segunda verficcação\n",
    "    if check2 == lista_digitos[-1]:\n",
    "        \n",
    "        print(\"\\nO CPF é valido!\")\n",
    "\n",
    "    else:\n",
    "        \n",
    "        print(\"\\nA segunda verificação falhou! CPF inválido!\")\n",
    "else:\n",
    "    \n",
    "    print(\"\\nA primeira verificação falhou! CPF inválido!\")"
   ]
  }
 ],
 "metadata": {
  "kernelspec": {
   "display_name": "Python 3",
   "language": "python",
   "name": "python3"
  },
  "language_info": {
   "codemirror_mode": {
    "name": "ipython",
    "version": 3
   },
   "file_extension": ".py",
   "mimetype": "text/x-python",
   "name": "python",
   "nbconvert_exporter": "python",
   "pygments_lexer": "ipython3",
   "version": "3.8.8"
  }
 },
 "nbformat": 4,
 "nbformat_minor": 4
}
