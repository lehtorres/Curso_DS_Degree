{
 "cells": [
  {
   "cell_type": "markdown",
   "metadata": {},
   "source": [
    "# Lista 1 - variáveis, input, output"
   ]
  },
  {
   "cell_type": "markdown",
   "metadata": {},
   "source": [
    "\n",
    "1. Faça um programa que mostre a mensagem \"Olá, mundo!\" na tela.\n"
   ]
  },
  {
   "cell_type": "code",
   "execution_count": 16,
   "metadata": {},
   "outputs": [
    {
     "name": "stdout",
     "output_type": "stream",
     "text": [
      "Olá mundo!\n"
     ]
    }
   ],
   "source": [
    "print(\"Olá mundo!\")"
   ]
  },
  {
   "cell_type": "markdown",
   "metadata": {},
   "source": [
    "2. Faça um programa que peça um número e mostre a mensagem \"O número informado foi [número]\".\n"
   ]
  },
  {
   "cell_type": "code",
   "execution_count": 17,
   "metadata": {},
   "outputs": [
    {
     "name": "stdout",
     "output_type": "stream",
     "text": [
      "Informe um número: 1\n",
      "O número informado foi  1.0\n"
     ]
    }
   ],
   "source": [
    "numero = float (input(\"Informe um número: \"))\n",
    "print(\"O número informado foi \", numero)"
   ]
  },
  {
   "cell_type": "markdown",
   "metadata": {},
   "source": [
    "\n",
    "3. Faça um programa que peça um número para o usuário (string), converta-o para float e depois imprima-o na tela. Você consegue fazer a mesma coisa, porém convertendo para int?\n",
    "\n"
   ]
  },
  {
   "cell_type": "code",
   "execution_count": 18,
   "metadata": {},
   "outputs": [
    {
     "name": "stdout",
     "output_type": "stream",
     "text": [
      "Informe um número: 2\n",
      "2.0\n",
      "2\n"
     ]
    }
   ],
   "source": [
    "numero = (input(\"Informe um número: \"))\n",
    "numero = float(numero)\n",
    "print(numero)\n",
    "numero = int(numero)\n",
    "print(numero)"
   ]
  },
  {
   "cell_type": "markdown",
   "metadata": {},
   "source": [
    "4. Faça um programa que peça dois números e imprima a soma deles.\n",
    "\n"
   ]
  },
  {
   "cell_type": "code",
   "execution_count": 19,
   "metadata": {},
   "outputs": [
    {
     "name": "stdout",
     "output_type": "stream",
     "text": [
      "Digite um número: 3\n",
      "Digite outro número: 4\n",
      "A soma dos números é  7.0\n"
     ]
    }
   ],
   "source": [
    "num1 = float(input(\"Digite um número: \"))\n",
    "num2 = float(input(\"Digite outro número: \"))\n",
    "\n",
    "soma = num1 + num2\n",
    "\n",
    "print(\"A soma dos números é \", soma)"
   ]
  },
  {
   "cell_type": "markdown",
   "metadata": {},
   "source": [
    "5. Faça um programa que peça as 4 notas bimestrais de um aluno e mostre a média aritmética delas.\n"
   ]
  },
  {
   "cell_type": "code",
   "execution_count": 20,
   "metadata": {},
   "outputs": [
    {
     "name": "stdout",
     "output_type": "stream",
     "text": [
      "Digite a primeira nota: 3\n",
      "Digite a segunda nota: 3\n",
      "Digite a terceira nota: 3\n",
      "Digite a quarta nota: 3\n",
      "A média é:  3.0\n"
     ]
    }
   ],
   "source": [
    "nota1 = float(input(\"Digite a primeira nota: \"))\n",
    "nota2 = float(input(\"Digite a segunda nota: \"))\n",
    "nota3 = float(input(\"Digite a terceira nota: \"))\n",
    "nota4 = float(input(\"Digite a quarta nota: \"))\n",
    "\n",
    "media = (nota1 + nota2 + nota3 + nota4)/4\n",
    "\n",
    "print(\"A média é: \", media)"
   ]
  },
  {
   "cell_type": "markdown",
   "metadata": {},
   "source": [
    "\n",
    "6. Faça um programa que converta um valor em metros para centímetros.\n",
    "\n"
   ]
  },
  {
   "cell_type": "code",
   "execution_count": 3,
   "metadata": {},
   "outputs": [
    {
     "name": "stdout",
     "output_type": "stream",
     "text": [
      "Digite o valor em metros: 1.78\n",
      "\n",
      "O comprimento 1.78 metros equivale a 178.0 centímetros!\n"
     ]
    }
   ],
   "source": [
    "metro = float(input(\"Digite o valor em metros: \"))\n",
    "\n",
    "centimetro = metro*100\n",
    "\n",
    "print(\"\\nO comprimento\", metro, \"metros equivale a\", centimetro, \"centímetros!\")"
   ]
  },
  {
   "cell_type": "markdown",
   "metadata": {},
   "source": [
    "7. Faça um programa que peça o raio de um círculo, calcule e mostre sua área. Obs: Fórmula da área de um círculo: A = 3,14*r2, onde r é o raio.\n"
   ]
  },
  {
   "cell_type": "code",
   "execution_count": 4,
   "metadata": {},
   "outputs": [
    {
     "name": "stdout",
     "output_type": "stream",
     "text": [
      "Digite o raio: 2\n",
      "\n",
      "A área do círculo de raio 2.0 é: 12.56 u.a. (unidades de área)\n"
     ]
    }
   ],
   "source": [
    "r = float(input(\"Digite o raio: \"))\n",
    "\n",
    "A = 3.14*r**2\n",
    "\n",
    "print(\"\\nA área do círculo de raio\", r, \"é:\", A, \"u.a. (unidades de área)\")"
   ]
  },
  {
   "cell_type": "code",
   "execution_count": 5,
   "metadata": {},
   "outputs": [
    {
     "name": "stdout",
     "output_type": "stream",
     "text": [
      "Digite o raio do círculo: 2\n",
      "\n",
      "A área do círculo de raio 2.0 é: 12.566370614359172 u.a. (unidades de área)\n"
     ]
    }
   ],
   "source": [
    "# Podemos também utilizar a constante pi, como é armazenada no próprio Python!\n",
    "# para isso, temos que importar a biblioteca \"math\"\n",
    "# fazemos isso com o comando:\n",
    "import math \n",
    "\n",
    "# aí, pra pegar o valor de pi, utilizamos o comando \"math.pi\"\n",
    "# vamos armazenar este valor na variavel \"pi\"\n",
    "# o valor é 3.141592653589793\n",
    "pi = math.pi\n",
    "\n",
    "# solicita o raio do círculo ao usuário\n",
    "raio = float(input(\"Digite o raio do círculo: \"))\n",
    "\n",
    "# calcula a área, utilizando a variável pi da biblioteca math\n",
    "area = pi*(raio**2)\n",
    "\n",
    "print(\"\\nA área do círculo de raio\", raio, \"é:\", area, \"u.a. (unidades de área)\")"
   ]
  },
  {
   "cell_type": "markdown",
   "metadata": {},
   "source": [
    "\n",
    "8. Faça um programa que pergunte quanto você ganha por hora e o número de horas trabalhadas no mês e depois, calcule e mostre o total do seu salário no referido mês.\n",
    "\n"
   ]
  },
  {
   "cell_type": "code",
   "execution_count": 23,
   "metadata": {},
   "outputs": [
    {
     "name": "stdout",
     "output_type": "stream",
     "text": [
      "Quanto voce ganha por hora? 23\n",
      "Quantas horas você trabalhou esse mês? 40\n",
      "Seu salário esse mês foi de 920.0 reais.\n"
     ]
    }
   ],
   "source": [
    "Hh = float(input(\"Quanto voce ganha por hora? \"))\n",
    "htrab = float(input(\"Quantas horas você trabalhou esse mês? \"))\n",
    "\n",
    "salario = Hh*htrab\n",
    "\n",
    "print(\"Seu salário esse mês foi de\", salario, \"reais.\")"
   ]
  },
  {
   "cell_type": "markdown",
   "metadata": {},
   "source": [
    "9. Faça um programa que peça a temperatura em graus Fahrenheit (F), transforme e mostre a temperatura em graus Celsius (°C). °C = (5 * (F-32) / 9) Obs: Tente também fazer um programa que faça o inverso: peça a temperatura em graus Celsius e a transforme em graus Fahrenheit.\n"
   ]
  },
  {
   "cell_type": "code",
   "execution_count": 6,
   "metadata": {},
   "outputs": [
    {
     "name": "stdout",
     "output_type": "stream",
     "text": [
      "Digite a temperatura em fahrenheit: 100\n",
      "A temperatura em Celsius é: 37.77777777777778\n"
     ]
    }
   ],
   "source": [
    "F = float(input(\"Digite a temperatura em fahrenheit: \"))\n",
    "\n",
    "C = 5 * (F-32) / 9\n",
    "\n",
    "print(\"A temperatura em Celsius é:\", C)"
   ]
  },
  {
   "cell_type": "code",
   "execution_count": 7,
   "metadata": {},
   "outputs": [
    {
     "name": "stdout",
     "output_type": "stream",
     "text": [
      "Digite a temperatura em Celsius: 37.78\n",
      "A temperatura em Fahrenheit é: 100.00399999999999\n"
     ]
    }
   ],
   "source": [
    "C = float(input(\"Digite a temperatura em Celsius: \"))\n",
    "\n",
    "F = (9 * C /5) + 32\n",
    "\n",
    "print(\"A temperatura em Fahrenheit é:\", F)"
   ]
  },
  {
   "cell_type": "markdown",
   "metadata": {},
   "source": [
    "\n",
    "10. Faça um programa que peça o dia, o mês e o ano para o usuário e imprima a data completa no formato dd/mm/aaaa.\n",
    "\n"
   ]
  },
  {
   "cell_type": "code",
   "execution_count": 25,
   "metadata": {},
   "outputs": [
    {
     "name": "stdout",
     "output_type": "stream",
     "text": [
      "Digite o dia: 04\n",
      "Digite o mês: 20\n",
      "Digite o ano: 2021\n",
      "04 / 20 / 2021\n"
     ]
    }
   ],
   "source": [
    "dia = str(input(\"Digite o dia: \"))\n",
    "mes = str(input(\"Digite o mês: \"))\n",
    "ano = str(input(\"Digite o ano: \"))\n",
    "\n",
    "print(dia,\"/\",mes,\"/\",ano)"
   ]
  },
  {
   "cell_type": "markdown",
   "metadata": {},
   "source": [
    "11. Faça um programa que peça 2 números inteiros e um número real, calcule e mostre:\n",
    "a) o produto do dobro do primeiro com metade do segundo.\n",
    "b) a soma do triplo do primeiro com o terceiro.\n",
    "c) o terceiro elevado ao cubo.\n",
    "\n"
   ]
  },
  {
   "cell_type": "code",
   "execution_count": 8,
   "metadata": {},
   "outputs": [
    {
     "name": "stdout",
     "output_type": "stream",
     "text": [
      "Digite um número inteiro: 4\n",
      "Digite outro número inteiro: 5\n",
      "Digite um número real: 2.2\n",
      "a) O produto do dobro do primeiro com metade do segundo é  20.0\n",
      "b) A soma do triplo do primeiro com o terceiro é  14.2\n",
      "c) O cubo do terceiro é  10.648000000000003\n"
     ]
    }
   ],
   "source": [
    "num1 = int(input(\"Digite um número inteiro: \"))\n",
    "num2 = int(input(\"Digite outro número inteiro: \"))\n",
    "num3 = float(input(\"Digite um número real: \"))\n",
    "\n",
    "produto = 2*num1 * 0.5*num2\n",
    "\n",
    "soma = (3*num1) + num3\n",
    "\n",
    "cubo = num3**3\n",
    "\n",
    "print(\"a) O produto do dobro do primeiro com metade do segundo é \", produto)\n",
    "print(\"b) A soma do triplo do primeiro com o terceiro é \", soma)\n",
    "print(\"c) O cubo do terceiro é \", cubo)"
   ]
  },
  {
   "cell_type": "markdown",
   "metadata": {},
   "source": [
    "12. Faça um programa que peça o peso e altura de uma pessoa e calcule seu IMC (Índice de Massa Corporal).\n",
    "Obs: IMC = Peso/Altura2\n",
    "\n"
   ]
  },
  {
   "cell_type": "code",
   "execution_count": 9,
   "metadata": {},
   "outputs": [
    {
     "name": "stdout",
     "output_type": "stream",
     "text": [
      "Peso: 70\n",
      "Altura: 1.64\n",
      "Seu IMC é  26.026174895895306\n"
     ]
    }
   ],
   "source": [
    "peso = float(input(\"Peso: \"))\n",
    "altura = float(input(\"Altura: \"))\n",
    "\n",
    "IMC = peso/(altura**2)\n",
    "\n",
    "print(\"Seu IMC é \", IMC)"
   ]
  },
  {
   "cell_type": "markdown",
   "metadata": {},
   "source": [
    "13. Faça um programa que peça um valor monetário e aumente-o em\n",
    "15%. Seu programa deve imprimir a mensagem “O novo valor é\n",
    "R$[valor]”.\n"
   ]
  },
  {
   "cell_type": "code",
   "execution_count": 10,
   "metadata": {},
   "outputs": [
    {
     "name": "stdout",
     "output_type": "stream",
     "text": [
      "Digite um valor (R$): 100.10\n",
      "O novo valor é R$ 115.11499999999998 .\n"
     ]
    }
   ],
   "source": [
    "valor = float(input(\"Digite um valor (R$): \"))\n",
    "\n",
    "valor = valor*1.15\n",
    "\n",
    "print(\"O novo valor é R$\",valor,\".\")"
   ]
  },
  {
   "cell_type": "markdown",
   "metadata": {},
   "source": [
    "\n",
    "14. Faça um programa que peça um valor monetário e diminua-o em 15%.\n",
    "Seu programa deve imprimir a mensagem “O novo valor é R$[valor]”.\n"
   ]
  },
  {
   "cell_type": "code",
   "execution_count": 11,
   "metadata": {},
   "outputs": [
    {
     "name": "stdout",
     "output_type": "stream",
     "text": [
      "Digite um valor (R$): 100\n",
      "O novo valor é R$ 85.0 .\n"
     ]
    }
   ],
   "source": [
    "valor = float(input(\"Digite um valor (R$): \"))\n",
    "\n",
    "valor = 0.85*valor\n",
    "\n",
    "print(\"O novo valor é R$\",valor,\".\")"
   ]
  },
  {
   "cell_type": "markdown",
   "metadata": {},
   "source": [
    "__________________\n",
    "__________________\n",
    "\n",
    "__________________\n",
    "__________________\n"
   ]
  },
  {
   "cell_type": "markdown",
   "metadata": {},
   "source": [
    "# DESAFIOS"
   ]
  },
  {
   "cell_type": "markdown",
   "metadata": {},
   "source": [
    "\n",
    "1. Peça para o usuário digitar uma velocidade inicial (em m/s), uma posição inicial (em m) e um instante de tempo (em s) e imprima a posição de um projétil nesse instante de tempo. Dica: use a fórmula matemática:\n",
    "yt = y0 + v0*t + (1/2)*gt^2\n",
    "Onde, g é a aceleração da gravidade (-10m/s²), y(t) é a posição\n",
    "final, y(0) é a posição inicial, v(0) é a velocidade inicial e t é o\n",
    "instante de tempo.\n"
   ]
  },
  {
   "cell_type": "code",
   "execution_count": 12,
   "metadata": {
    "scrolled": true
   },
   "outputs": [
    {
     "name": "stdout",
     "output_type": "stream",
     "text": [
      "Digite uma velocidade inicial: 2.5\n",
      "Digite uma posição inicial: 100\n",
      "Digite um instante de tempo: 4.2\n",
      "A posição final é  22.299999999999997\n"
     ]
    }
   ],
   "source": [
    "veloc = float(input(\"Digite uma velocidade inicial: \"))\n",
    "pos = float(input(\"Digite uma posição inicial: \"))\n",
    "temp = float(input(\"Digite um instante de tempo: \"))\n",
    "\n",
    "g = -10\n",
    "\n",
    "y = pos + veloc*temp + 0.5*g*temp**2\n",
    "\n",
    "print (\"A posição final é \", y)"
   ]
  },
  {
   "cell_type": "markdown",
   "metadata": {},
   "source": [
    "\n",
    "2. Faça um programa que informe a data e a hora para o usuário. Para\n",
    "isso use a função datetime.now() do módulo datetime"
   ]
  },
  {
   "cell_type": "code",
   "execution_count": 15,
   "metadata": {},
   "outputs": [
    {
     "name": "stdout",
     "output_type": "stream",
     "text": [
      "Data de hoje:  30/10/2021 09:44\n"
     ]
    }
   ],
   "source": [
    "from datetime import datetime\n",
    "\n",
    "data = datetime.now().strftime(\"%d/%m/%Y %H:%M\")\n",
    "\n",
    "print(\"Data de hoje: \",data)"
   ]
  },
  {
   "cell_type": "code",
   "execution_count": 16,
   "metadata": {},
   "outputs": [
    {
     "name": "stdout",
     "output_type": "stream",
     "text": [
      "Data de hoje:  2021-10-30\n",
      "Data de hoje:  09:45:38.263966\n"
     ]
    }
   ],
   "source": [
    "# ALTERNATIVA PROFESSOR\n",
    "import datetime\n",
    "\n",
    "hoje = datetime.datetime.now()\n",
    "\n",
    "print(\"Data de hoje: \", hoje.date())\n",
    "print(\"Data de hoje: \", hoje.time())"
   ]
  }
 ],
 "metadata": {
  "kernelspec": {
   "display_name": "Python 3",
   "language": "python",
   "name": "python3"
  },
  "language_info": {
   "codemirror_mode": {
    "name": "ipython",
    "version": 3
   },
   "file_extension": ".py",
   "mimetype": "text/x-python",
   "name": "python",
   "nbconvert_exporter": "python",
   "pygments_lexer": "ipython3",
   "version": "3.8.8"
  }
 },
 "nbformat": 4,
 "nbformat_minor": 4
}
