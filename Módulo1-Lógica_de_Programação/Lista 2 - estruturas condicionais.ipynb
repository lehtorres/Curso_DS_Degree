{
 "cells": [
  {
   "cell_type": "markdown",
   "metadata": {},
   "source": [
    "# Lista 2 - estruturas condicionais"
   ]
  },
  {
   "cell_type": "markdown",
   "metadata": {},
   "source": [
    "1. Faça um programa que peça a idade do usuário e imprima se ele é\n",
    "maior ou menor de 18 anos.\n"
   ]
  },
  {
   "cell_type": "code",
   "execution_count": 1,
   "metadata": {},
   "outputs": [
    {
     "name": "stdout",
     "output_type": "stream",
     "text": [
      "Digite a idade: 34\n",
      "Ele(a) é maior que 18!\n"
     ]
    }
   ],
   "source": [
    "idade = int(input(\"Digite a idade: \"))\n",
    "\n",
    "if idade >= 18:\n",
    "    \n",
    "    print('Ele(a) é maior que 18!')\n",
    "    \n",
    "else:\n",
    "    \n",
    "    print(\"Ele(a) é menor que 18!\")"
   ]
  },
  {
   "cell_type": "markdown",
   "metadata": {},
   "source": [
    "\n",
    "\n",
    "2. Faça um programa que peça um número e mostre se ele é positivo\n",
    "ou negativo.\n"
   ]
  },
  {
   "cell_type": "code",
   "execution_count": 3,
   "metadata": {},
   "outputs": [
    {
     "name": "stdout",
     "output_type": "stream",
     "text": [
      "Digite um número: -75\n",
      "O número é negativo!\n"
     ]
    }
   ],
   "source": [
    "num = float(input(\"Digite um número: \"))\n",
    "\n",
    "if num > 0:\n",
    "    \n",
    "    print('O número é positivo!')\n",
    "    \n",
    "elif num < 0:\n",
    "    \n",
    "    print(\"O número é negativo!\")\n",
    "    \n",
    "else:\n",
    "    \n",
    "    print(\"O número é zero!\")"
   ]
  },
  {
   "cell_type": "markdown",
   "metadata": {},
   "source": [
    "\n",
    "\n",
    "3. Faça um programa que dado um número digitado, mostre se ele é\n",
    "Par ou Ímpar.\n",
    "\n"
   ]
  },
  {
   "cell_type": "code",
   "execution_count": 6,
   "metadata": {},
   "outputs": [
    {
     "name": "stdout",
     "output_type": "stream",
     "text": [
      "Digite um número: 46\n",
      "O número 46 é par!\n"
     ]
    }
   ],
   "source": [
    "num = int(input(\"Digite um número: \"))\n",
    "\n",
    "if num %2 == 0:\n",
    "    \n",
    "    print('O número', num, 'é par!')\n",
    "\n",
    "else:\n",
    "  \n",
    "    print(\"O número\", num, \"é ímpar!\")"
   ]
  },
  {
   "cell_type": "markdown",
   "metadata": {},
   "source": [
    "\n",
    "4. Faça um programa que peça dois números e mostre o maior deles.\n",
    "\n"
   ]
  },
  {
   "cell_type": "code",
   "execution_count": 31,
   "metadata": {},
   "outputs": [
    {
     "name": "stdout",
     "output_type": "stream",
     "text": [
      "Digite um número: 1\n",
      "Digite outro número: 2\n",
      "O maior é:  2\n"
     ]
    }
   ],
   "source": [
    "num1 = int(input(\"Digite um número: \"))\n",
    "num2 = int(input(\"Digite outro número: \"))\n",
    "\n",
    "if num1 > num2:\n",
    "    print('O maior é: ', num1)\n",
    "elif num2 > num1:\n",
    "    print(\"O maior é: \", num2)\n",
    "else:\n",
    "    print(\"Os números são iguais\")"
   ]
  },
  {
   "cell_type": "markdown",
   "metadata": {},
   "source": [
    "\n",
    "5. Faça um programa que leia a validade das informações:\n",
    "\n",
    "a. Idade: entre 0 e 150;\n",
    "\n",
    "b. Salário: maior que 0;\n",
    "\n",
    "c. Sexo: M, F ou Outro;\n",
    "\n",
    "O programa deve imprimir uma mensagem de erro para cada\n",
    "informação inválida.\n"
   ]
  },
  {
   "cell_type": "code",
   "execution_count": 8,
   "metadata": {},
   "outputs": [
    {
     "name": "stdout",
     "output_type": "stream",
     "text": [
      "Idade: -9\n",
      "A idade é inválida!\n",
      "Salário: -9\n",
      "O valor digitado para salário é inválido!\n",
      "Sexo (M, F, Outro): masc\n",
      "O sexo digitado é inválido!\n"
     ]
    }
   ],
   "source": [
    "idade = int(input(\"Idade: \"))\n",
    "\n",
    "if idade < 0 or idade > 150:\n",
    "    print(\"A idade é inválida!\")\n",
    "\n",
    "salario = float(input(\"Salário: \"))\n",
    "\n",
    "if salario < 0:\n",
    "    print(\"O valor digitado para salário é inválido!\")\n",
    "\n",
    "sexo = str(input(\"Sexo (M, F, Outro): \"))    \n",
    "    \n",
    "if sexo != \"M\" and sexo != \"F\" and sexo != \"Outro\":\n",
    "    print(\"O sexo digitado é inválido!\") "
   ]
  },
  {
   "cell_type": "markdown",
   "metadata": {},
   "source": [
    "\n",
    "\n",
    "6. Escreva um programa que peça a nota de 3 provas de um aluno e\n",
    "verifique se ele passou o não de ano.\n",
    "Obs.: O aluno irá passar de ano se sua média for maior que 6.\n"
   ]
  },
  {
   "cell_type": "code",
   "execution_count": 40,
   "metadata": {},
   "outputs": [
    {
     "name": "stdout",
     "output_type": "stream",
     "text": [
      "Digite sua primeira nota: 3\n",
      "Digite outro número: 6\n",
      "Digite outro número: 2\n",
      "O aluno não passou de ano!\n"
     ]
    }
   ],
   "source": [
    "nota1 = float(input(\"Digite sua primeira nota: \"))\n",
    "nota2 = float(input(\"Digite outro número: \"))\n",
    "nota3 = float(input(\"Digite outro número: \"))\n",
    "\n",
    "media = (nota1 + nota2 + nota3)/3\n",
    "\n",
    "if media >= 6.0:\n",
    "    print('O aluno passou de ano!')\n",
    "else:\n",
    "    print(\"O aluno não passou de ano!\")"
   ]
  },
  {
   "cell_type": "markdown",
   "metadata": {},
   "source": [
    "\n",
    "7. Faça um programa que mostre uma questão de múltipla escolha com\n",
    "5 opções (letras a, b, c, d, e e). Sabendo a resposta certa, o programa\n",
    "deve receber a opção do usuário e informar a letra que o usuário\n",
    "marcou e se a resposta está certa ou errada.\n"
   ]
  },
  {
   "cell_type": "code",
   "execution_count": 47,
   "metadata": {},
   "outputs": [
    {
     "name": "stdout",
     "output_type": "stream",
     "text": [
      "Escolha uma alternativa (a,b,c,d,e): b\n",
      "Resposta certa!\n"
     ]
    }
   ],
   "source": [
    "alternativa = input(\"Escolha uma alternativa (a,b,c,d,e): \") \n",
    "\n",
    "# Sabendo que a resposta é b..\n",
    "\n",
    "if alternativa == \"b\":\n",
    "    print(\"Resposta certa!\")\n",
    "else:\n",
    "    print(\"Resposta errada!\")"
   ]
  },
  {
   "cell_type": "code",
   "execution_count": null,
   "metadata": {},
   "outputs": [],
   "source": [
    "# RESOLUÇÃO PROFESSOR\n",
    "\n",
    "# faz a pergunta e dá as alternativas\n",
    "print(\"Quanto é 2+2?\")\n",
    "print(\"a) 22\")\n",
    "print(\"b) 0\")\n",
    "print(\"c) 4\")\n",
    "print(\"d) -4\")\n",
    "print(\"e) -22\")\n",
    "\n",
    "# pergunta ao usuario qual é a resposta dele\n",
    "alternativa_escolhida = input(\"Escolha uma das alternativas (a, b, c, d ou e): \")\n",
    "\n",
    "# fixa qual é a alternastiva correta\n",
    "resposta_certa = \"c\"\n",
    "\n",
    "# checa se a resposta dada pelo usuario está correta, e avisa pra ele\n",
    "if alternativa_escolhida == resposta_certa:\n",
    "        print(\"\\nVocê escolheu a alternativa\", alternativa_escolhida, \"e essa resposta está CERTA!\")\n",
    "else:\n",
    "        print(\"\\nVocê escolheu a alternativa\", alternativa_escolhida, \"e essa resposta está ERRADA!\")\n"
   ]
  },
  {
   "cell_type": "markdown",
   "metadata": {},
   "source": [
    "\n",
    "\n",
    "8. Vamos fazer um programa para verificar quem é o assassino de um\n",
    "crime. Para descobrir o assassino, a polícia faz um pequeno\n",
    "questionário com 5 perguntas onde a resposta só pode ser sim ou não:\n",
    "a. Mora perto da vítima?\n",
    "b. Já trabalhou com a vítima?\n",
    "c. Telefonou para a vítima?\n",
    "d. Esteve no local do crime?\n",
    "e. Devia para a vítima?\n",
    "Cada resposta sim dá um ponto para o suspeito. A polícia considera\n",
    "que os suspeitos com 5 pontos são os assassinos, com 4 a 3 pontos são\n",
    "cúmplices e 2 pontos são apenas suspeitos, necessitando outras\n",
    "investigações. Valores abaixo de 1 são liberados.\n"
   ]
  },
  {
   "cell_type": "code",
   "execution_count": 12,
   "metadata": {
    "scrolled": true
   },
   "outputs": [
    {
     "name": "stdout",
     "output_type": "stream",
     "text": [
      "Mora perto da vítima? (S/N)S\n",
      "Já trabalhou com a vítima? (S/N)N\n",
      "Telefonou para a vítima? (S/N)S\n",
      "Esteve no local do crime? (S/N)N\n",
      "Devia para a vítima? (S/N)S\n",
      "É cúmplice!\n"
     ]
    }
   ],
   "source": [
    "contador = 0\n",
    "\n",
    "resp = input(\"Mora perto da vítima? (S/N)\") \n",
    "if resp ==\"S\":\n",
    "    contador = contador + 1\n",
    "\n",
    "resp = input(\"Já trabalhou com a vítima? (S/N)\") \n",
    "if resp ==\"S\":\n",
    "    contador = contador + 1\n",
    "\n",
    "resp = input(\"Telefonou para a vítima? (S/N)\") \n",
    "if resp ==\"S\":\n",
    "    contador = contador + 1\n",
    "    \n",
    "resp = input(\"Esteve no local do crime? (S/N)\")\n",
    "if resp ==\"S\":\n",
    "    contador = contador + 1\n",
    "\n",
    "resp = input(\"Devia para a vítima? (S/N)\")\n",
    "if resp ==\"S\":\n",
    "    contador = contador + 1\n",
    "    \n",
    "if contador == 5:\n",
    "    print(\"É o assassino!\")\n",
    "elif contador == 4 or contador ==3:\n",
    "    print(\"É cúmplice!\")\n",
    "elif contador == 2:\n",
    "    print(\"É suspeito!\")\n",
    "else:\n",
    "    print(\"Pode ser liberado!\")"
   ]
  },
  {
   "cell_type": "code",
   "execution_count": 11,
   "metadata": {},
   "outputs": [
    {
     "name": "stdout",
     "output_type": "stream",
     "text": [
      "Mora perto da vítima? (S/N)S\n",
      "Já trabalhou com a vítima? (S/N)S\n",
      "Telefonou para a vítima? (S/N)S\n",
      "Esteve no local do crime? (S/N)S\n",
      "Devia para a vítima? (S/N)S\n",
      "É o assassino!\n"
     ]
    }
   ],
   "source": [
    "# ALTERNATIVA MAIS CURTA\n",
    "\n",
    "respostas = [input(\"Mora perto da vítima? (S/N)\"),\n",
    "             input(\"Já trabalhou com a vítima? (S/N)\"),\n",
    "             input(\"Telefonou para a vítima? (S/N)\"),\n",
    "             input(\"Esteve no local do crime? (S/N)\"),\n",
    "             input(\"Devia para a vítima? (S/N)\")]\n",
    "\n",
    "contador = 0\n",
    "\n",
    "for i in range(0,5):\n",
    "    \n",
    "    if respostas[i] == \"S\":\n",
    "        \n",
    "        contador = contador + 1\n",
    "        \n",
    "if contador == 5:\n",
    "    print(\"É o assassino!\")\n",
    "elif contador == 4 or contador ==3:\n",
    "    print(\"É cúmplice!\")\n",
    "elif contador == 2:\n",
    "    print(\"É suspeito!\")\n",
    "else:\n",
    "    print(\"Pode ser liberado!\")"
   ]
  },
  {
   "cell_type": "code",
   "execution_count": 12,
   "metadata": {},
   "outputs": [
    {
     "name": "stdout",
     "output_type": "stream",
     "text": [
      "Mora perto da vítima? SIM\n",
      "Já trabalhou com a vítima? S\n",
      "RESPOSTA INVÁLIDA! Já trabalhou com a vítima? S\n",
      "RESPOSTA INVÁLIDA! Já trabalhou com a vítima? SIM\n",
      "Telefonou para a vítima? SIM\n",
      "Esteve no local do crime? NAO\n",
      "Devia para a vítima? NAO\n",
      "Você é cumplice!\n"
     ]
    }
   ],
   "source": [
    "# ALTERNATIVA PROFESSOR\n",
    "\n",
    "lista = [\"SIM\", \"NAO\"]\n",
    "pontuacao = 0\n",
    "\n",
    "lista_de_perguntas = [\"Mora perto da vítima? \", \"Já trabalhou com a vítima? \",\n",
    "                     \"Telefonou para a vítima? \",\"Esteve no local do crime? \",\n",
    "                      \"Devia para a vítima? \"]\n",
    "\n",
    "\n",
    "for pergunta in lista_de_perguntas:\n",
    "    \n",
    "    resposta = input(pergunta)\n",
    "    \n",
    "    while resposta not in lista:\n",
    "        resposta = input(\"RESPOSTA INVÁLIDA! \" + pergunta)\n",
    "\n",
    "    if resposta == \"SIM\":\n",
    "        pontuacao = pontuacao + 1\n",
    "        \n",
    "        \n",
    "if pontuacao == 5:\n",
    "    print(\"Você é um assassino!\")\n",
    "elif pontuacao == 4 or pontuacao == 3:\n",
    "    print(\"Você é cumplice!\")\n",
    "elif pontuacao == 2:\n",
    "    print(\"Você é suspeito\")\n",
    "else:\n",
    "    print(\"Você tá liberado\")"
   ]
  },
  {
   "cell_type": "markdown",
   "metadata": {},
   "source": [
    "9. Um produto vai sofrer aumento de acordo com a Tabela 1 abaixo. Faça\n",
    "um programa que peça para o usuário digitar o valor do produto de\n",
    "acordo com o preço antigo e escreva uma das mensagens da Tabela\n",
    "2, de acordo com o preço reajustado:\n",
    "\n",
    "REAJUSTE: \n",
    "\n",
    "- Até 50 : 5\\%\n",
    "\n",
    "- Entre 50 e 100 : 10\\%\n",
    "\n",
    "- Entre 100 e 150 : 13\\%\n",
    "\n",
    "- Acima de 150 : 15\\%\n",
    "\n",
    "MENSAGENS: \n",
    "\n",
    "- Até 80 : Barato\n",
    "\n",
    "- Entre 80 e 115 : Razoável\n",
    "\n",
    "- Entre 115 e 150 : Normal\n",
    "\n",
    "- Entre 150 e 170 : Caro\n",
    "\n",
    "- Acima de 170 : Muito caro"
   ]
  },
  {
   "cell_type": "code",
   "execution_count": 12,
   "metadata": {},
   "outputs": [
    {
     "name": "stdout",
     "output_type": "stream",
     "text": [
      "Digite o valor antigo do produto: 200\n",
      "229.99999999999997\n",
      "Caro!\n"
     ]
    }
   ],
   "source": [
    "valor = float(input(\"Digite o valor antigo do produto: \")) \n",
    "\n",
    "if valor <= 50:\n",
    "    valor = valor * 1.05\n",
    "    print(valor)\n",
    "elif valor <= 100:\n",
    "    valor = valor * 1.1\n",
    "    print(valor)\n",
    "elif valor <= 150:\n",
    "    valor = valor * 1.13\n",
    "    print(valor)\n",
    "else:\n",
    "    valor = valor * 1.15\n",
    "    print(valor)\n",
    "\n",
    "if valor <= 80:\n",
    "    print(\"Barato!\")  \n",
    "elif valor <= 115:\n",
    "    print(\"Razoável!\")  \n",
    "elif valor <= 150:\n",
    "    print(\"Normal!\")   \n",
    "elif valor > 170:\n",
    "    print(\"Caro!\")"
   ]
  },
  {
   "cell_type": "markdown",
   "metadata": {},
   "source": [
    "__________________\n",
    "__________________\n",
    "\n",
    "__________________\n",
    "__________________"
   ]
  },
  {
   "cell_type": "markdown",
   "metadata": {},
   "source": [
    "# DESAFIOS"
   ]
  },
  {
   "cell_type": "markdown",
   "metadata": {},
   "source": [
    "\n",
    "1. Faça um programa que leia 3 números e informe o maior deles.\n",
    "\n"
   ]
  },
  {
   "cell_type": "code",
   "execution_count": 13,
   "metadata": {},
   "outputs": [
    {
     "name": "stdout",
     "output_type": "stream",
     "text": [
      "Digite um número: 14\n",
      "Digite outro número: -1000\n",
      "Digite outro número: 1\n",
      "O maior é:  14.0\n"
     ]
    }
   ],
   "source": [
    "num1 = float(input(\"Digite um número: \"))\n",
    "num2 = float(input(\"Digite outro número: \"))\n",
    "num3 = float(input(\"Digite outro número: \"))\n",
    "\n",
    "maior = num1\n",
    "\n",
    "if num2 > maior:\n",
    "    maior = num2\n",
    "if num3 > maior:\n",
    "    maior = num3\n",
    "\n",
    "print(\"O maior é: \", maior)"
   ]
  },
  {
   "cell_type": "markdown",
   "metadata": {},
   "source": [
    "2. Faça o mesmo programa do exercício anterior, porém com 4\n",
    "números.\n",
    "\n"
   ]
  },
  {
   "cell_type": "code",
   "execution_count": 14,
   "metadata": {
    "scrolled": true
   },
   "outputs": [
    {
     "name": "stdout",
     "output_type": "stream",
     "text": [
      "Digite um número: 14857\n",
      "Digite outro número: -315684\n",
      "Digite outro número: 548.148496\n",
      "Digite outro número: 0.187\n",
      "O maior é:  14857.0\n"
     ]
    }
   ],
   "source": [
    "num1 = float(input(\"Digite um número: \"))  \n",
    "num2 = float(input(\"Digite outro número: \"))\n",
    "num3 = float(input(\"Digite outro número: \"))\n",
    "num4 = float(input(\"Digite outro número: \"))\n",
    "\n",
    "maior = num1\n",
    "\n",
    "if num2 > maior:\n",
    "    maior = num2\n",
    "if num3 > maior:\n",
    "    maior = num3\n",
    "if num4 > maior:\n",
    "    maior = num4\n",
    "\n",
    "print(\"O maior é: \", maior)"
   ]
  },
  {
   "cell_type": "markdown",
   "metadata": {},
   "source": [
    "__Para achar o maior entre N números, usamos listas, de um jeito bem simples!__"
   ]
  },
  {
   "cell_type": "code",
   "execution_count": 16,
   "metadata": {},
   "outputs": [
    {
     "name": "stdout",
     "output_type": "stream",
     "text": [
      "Você quer encontrar o maior entre quantos números? 4\n",
      "Digite o 1° número: 14857\n",
      "Digite o 2° número: -315684\n",
      "Digite o 3° número: 548.148496\n",
      "Digite o 4° número: 0.187\n",
      "\n",
      "O maior número é 14857.0\n"
     ]
    }
   ],
   "source": [
    "# pede pro usuario quantos números quer comparar pra achar o maior\n",
    "N = int(input(\"Você quer encontrar o maior entre quantos números? \"))\n",
    "\n",
    "# inicializa uma lista vazia a ser preenchida com os numeros dados pelo usuario\n",
    "lista_de_numeros = []\n",
    "\n",
    "for i in range(N):\n",
    "    \n",
    "    # pega o numero digitado pelo usuario\n",
    "    numero = float(input(\"Digite o \" + str(i+1) + \"° número: \"))\n",
    "\n",
    "    # apernda o numero à lista\n",
    "    lista_de_numeros.append(numero)\n",
    "    \n",
    "# ordena a lista, e pega o ultimo elemento\n",
    "maior = sorted(lista_de_numeros)[-1]\n",
    "\n",
    "print(\"\\nO maior número é\", maior)"
   ]
  },
  {
   "cell_type": "markdown",
   "metadata": {},
   "source": [
    "3. Um hospital quer fazer o diagnóstico de gripe ou dengue a partir de\n",
    "um questionário de sintomas, tendo as perguntas abaixo, faça um\n",
    "programa que faça o diagnóstico deste hospital:\n",
    "a. Sente dor no corpo?\n",
    "b. Você tem febre?\n",
    "c. Você tem tosse?\n",
    "d. Está com congestão nasal?\n",
    "e. Tem manchas pelo corpo?\n",
    "Para o diagnóstico ele tem a seguinte tabela\n",
    "\n",
    "<img src=https://s3-sa-east-1.amazonaws.com/lcpi/7df17e28-dd5c-4ef0-8ccf-941aa400d2ab.JPG width=500>"
   ]
  },
  {
   "cell_type": "code",
   "execution_count": 17,
   "metadata": {},
   "outputs": [
    {
     "name": "stdout",
     "output_type": "stream",
     "text": [
      "Sente dor no corpo? (S/N)S\n",
      "Você tem febre? (S/N)S\n",
      "Você tem tosse? (S/N)S\n",
      "Está com congestão nasal? (S/N)S\n",
      "Tem manchas pelo corpo? (S/N)S\n",
      "Impossível diagnosticar\n"
     ]
    }
   ],
   "source": [
    "a = input(\"Sente dor no corpo? (S/N)\") \n",
    "b = input(\"Você tem febre? (S/N)\") \n",
    "c = input(\"Você tem tosse? (S/N)\") \n",
    "d = input(\"Está com congestão nasal? (S/N)\") \n",
    "e = input(\"Tem manchas pelo corpo? (S/N)\") \n",
    "\n",
    "if a == \"S\" and b == \"S\" and c != \"S\" and d != \"S\" and e == \"S\":\n",
    "    print(\"Dengue\")\n",
    "elif b == \"S\" and c == \"S\" and d == \"S\" and e != \"S\":\n",
    "    print(\"Gripe\")\n",
    "elif b != \"S\" and c != \"S\" and d != \"S\" and e != \"S\" and (a == \"S\" or a == \"N\"):\n",
    "    print(\"Sem doenças\")\n",
    "else:\n",
    "    print(\"Impossível diagnosticar\")"
   ]
  },
  {
   "cell_type": "code",
   "execution_count": null,
   "metadata": {},
   "outputs": [],
   "source": [
    "# RESOLUÇÃO COLEGA\n",
    "\n",
    "tabDiag = {\n",
    "    \"Dengue 1\": [1,1,0,0,1],\n",
    "    \"Gripe 1\": [1,1,1,1,0],\n",
    "    \"Gripe 2\": [0,1,1,1,0],\n",
    "    \"Sem_Doenças 1\": [1,0,0,0,0],\n",
    "    \"Sem_Doenças 2\": [0,0,0,0,0],\n",
    "    \"Vai_morrer 1\": [1,1,1,1,1]\n",
    "}\n",
    "\n",
    "perguntas = {\n",
    "    \"a. Sente dor no corpo? (s/n): \":0,\n",
    "    \"b. Você tem febre? (s/n): \":0,\n",
    "    \"c. Você tem tosse? (s/n): \":0,\n",
    "    \"d. Está com congestão nasal? (s/n): \":0,\n",
    "    \"e. Tem manchas pelo corpo? (s/n): \":0\n",
    "}\n",
    "\n",
    "respostas = [\"s\", \"n\"]\n",
    "for pergunta in perguntas:\n",
    "    x1 = input(pergunta)\n",
    "    while not x1.isalpha() or not x1.lower() in respostas:\n",
    "        x1 = input(pergunta)\n",
    "        \n",
    "    perguntas[pergunta] = 0 if x1==\"n\" else 1\n",
    "\n",
    "flag=0\n",
    "for doenca in tabDiag:\n",
    "    if tabDiag[doenca] == list(perguntas.values()):\n",
    "        print(f\"Diagnóstico: {doenca.split()[0]}\")\n",
    "        flag=1\n",
    "        break\n",
    "\n",
    "if flag==0:\n",
    "    print(f\"Diagnóstico não detectado.\")\n"
   ]
  }
 ],
 "metadata": {
  "kernelspec": {
   "display_name": "Python 3",
   "language": "python",
   "name": "python3"
  },
  "language_info": {
   "codemirror_mode": {
    "name": "ipython",
    "version": 3
   },
   "file_extension": ".py",
   "mimetype": "text/x-python",
   "name": "python",
   "nbconvert_exporter": "python",
   "pygments_lexer": "ipython3",
   "version": "3.8.8"
  }
 },
 "nbformat": 4,
 "nbformat_minor": 4
}
