{
 "cells": [
  {
   "cell_type": "markdown",
   "metadata": {},
   "source": [
    "# Lista 5 - Strings"
   ]
  },
  {
   "cell_type": "markdown",
   "metadata": {},
   "source": [
    "1.Faça um programa que pede para o usuário digitar uma palavra e imprima cada letra em uma linha. \n",
    "\n"
   ]
  },
  {
   "cell_type": "code",
   "execution_count": 1,
   "metadata": {},
   "outputs": [
    {
     "name": "stdout",
     "output_type": "stream",
     "text": [
      "Digite uma palavra: aulas\n",
      "a\n",
      "u\n",
      "l\n",
      "a\n",
      "s\n"
     ]
    }
   ],
   "source": [
    "palavra = input(\"Digite uma palavra: \")\n",
    "\n",
    "for char in palavra:\n",
    "    \n",
    "    print(char)"
   ]
  },
  {
   "cell_type": "markdown",
   "metadata": {},
   "source": [
    "2.Faça um programa que pede para o usuário digitar uma palavra e cria uma nova string igual, copiando letra por letra a palavra digitada, depois imprima a nova string. \n",
    "\n"
   ]
  },
  {
   "cell_type": "code",
   "execution_count": 2,
   "metadata": {},
   "outputs": [
    {
     "name": "stdout",
     "output_type": "stream",
     "text": [
      "Digite uma palavra: organizar\n",
      "organizar\n"
     ]
    }
   ],
   "source": [
    "palavra2 = input(\"Digite uma palavra: \")\n",
    "copia = \"\"\n",
    "\n",
    "for char in palavra2:\n",
    "    \n",
    "    copia = copia + char\n",
    "\n",
    "print(copia)"
   ]
  },
  {
   "cell_type": "markdown",
   "metadata": {},
   "source": [
    "3.Altere o exercício anterior para que a string copiada alterne entre letras maiúsculas e minúsculas Exemplo: se  o  usuário  digitar  \"latex\"  o  programa  deve  imprimir \"LaTeX\". \n",
    "\n"
   ]
  },
  {
   "cell_type": "code",
   "execution_count": 4,
   "metadata": {},
   "outputs": [
    {
     "name": "stdout",
     "output_type": "stream",
     "text": [
      "Digite uma palavra: latex\n"
     ]
    },
    {
     "data": {
      "text/plain": [
       "'LaTeX'"
      ]
     },
     "execution_count": 4,
     "metadata": {},
     "output_type": "execute_result"
    }
   ],
   "source": [
    "palavra3 = input(\"Digite uma palavra: \")\n",
    "copia = \"\"\n",
    "\n",
    "for char in palavra3:\n",
    "    \n",
    "    if char in palavra3[::2]:\n",
    "        \n",
    "        copia = copia + char.upper()\n",
    "        \n",
    "    else:\n",
    "        \n",
    "        copia = copia + char.lower()\n",
    "        \n",
    "copia"
   ]
  },
  {
   "cell_type": "code",
   "execution_count": null,
   "metadata": {},
   "outputs": [],
   "source": [
    "# RESOLUÇÃO PROFESSOR\n",
    "\n",
    "# solicita a palavra pro usuário\n",
    "palavra = input(\"Digite uma palavra: \")\n",
    "\n",
    "# inicializa uma string vazia\n",
    "string_nova = \"\"\n",
    "\n",
    "# percorre os indices da palavra\n",
    "for i in range(len(palavra)):\n",
    "    \n",
    "    # se o indice for par\n",
    "    if i % 2 == 0:\n",
    "        # concatena o caractere da palavra original em maiuscula\n",
    "        string_nova = string_nova + palavra[i].upper()\n",
    "    else:\n",
    "        # concatena o caractere da palavra original em minuscula\n",
    "        string_nova = string_nova + palavra[i].lower()\n",
    "         \n",
    "print(\"\\nString copiada e modificada:\", string_nova)"
   ]
  },
  {
   "cell_type": "code",
   "execution_count": 33,
   "metadata": {},
   "outputs": [
    {
     "name": "stdout",
     "output_type": "stream",
     "text": [
      "Digite uma palavra: LATEX\n"
     ]
    },
    {
     "data": {
      "text/plain": [
       "'LaTeX'"
      ]
     },
     "execution_count": 33,
     "metadata": {},
     "output_type": "execute_result"
    }
   ],
   "source": [
    "# RESOLUÇÃO USANDO TAMBÉM LISTAS\n",
    "\n",
    "palavra3 = input(\"Digite uma palavra: \")\n",
    "copia = []\n",
    "\n",
    "for char in palavra3:\n",
    "    \n",
    "    if char in palavra3[::2]:\n",
    "        \n",
    "        copia.append(char.upper())\n",
    "        \n",
    "    else:\n",
    "        \n",
    "        copia.append(char.lower())\n",
    "        \n",
    "copia = \"\".join(copia)\n",
    "\n",
    "copia"
   ]
  },
  {
   "cell_type": "markdown",
   "metadata": {},
   "source": [
    "4.Faça um programa que pede para o usuário digitar uma palavra e cria uma nova string igual, porém com espaço entre cada letra, depois imprima a nova string: Exemplo: se o usuário digitar \"python\" o programa deve imprimir  \"p y t h o n \" \n",
    "\n"
   ]
  },
  {
   "cell_type": "code",
   "execution_count": 37,
   "metadata": {},
   "outputs": [
    {
     "name": "stdout",
     "output_type": "stream",
     "text": [
      "Digite uma palavra: python\n"
     ]
    },
    {
     "data": {
      "text/plain": [
       "'p y t h o n'"
      ]
     },
     "execution_count": 37,
     "metadata": {},
     "output_type": "execute_result"
    }
   ],
   "source": [
    "palavra4 = input(\"Digite uma palavra: \")\n",
    "copia = []\n",
    "\n",
    "for char in palavra4:\n",
    "    \n",
    "    copia.append(char)\n",
    "      \n",
    "\" \".join(copia)"
   ]
  },
  {
   "cell_type": "code",
   "execution_count": null,
   "metadata": {},
   "outputs": [],
   "source": [
    "# RESOLUÇÃO PROFESSOR\n",
    "\n",
    "# solicita a palavra pro usuário\n",
    "palavra = input(\"Digite uma palavra: \")\n",
    "\n",
    "# inicializa uma string vazia\n",
    "string_nova = \"\"\n",
    "\n",
    "# percorre cada caractere da palavra\n",
    "for letra in palavra:\n",
    "    \n",
    "    # concatena à string nova o caractere e um espaço\n",
    "    string_nova = string_nova + letra + \" \"\n",
    "\n",
    "print(\"\\nString copiada:\", string_nova)"
   ]
  },
  {
   "cell_type": "markdown",
   "metadata": {},
   "source": [
    "5.Faça uma função que receba uma string e retorne uma nova string substituindo: 'a' por '4' 'e' por '3' 'I' por '1' 't' por '7' \n",
    "\n"
   ]
  },
  {
   "cell_type": "code",
   "execution_count": 3,
   "metadata": {},
   "outputs": [
    {
     "name": "stdout",
     "output_type": "stream",
     "text": [
      "Por favor, digite uma palavra: telefonar\n"
     ]
    },
    {
     "data": {
      "text/plain": [
       "'7313fon4r'"
      ]
     },
     "execution_count": 3,
     "metadata": {},
     "output_type": "execute_result"
    }
   ],
   "source": [
    "palavra5 = list(input('Por favor, digite uma palavra: '))\n",
    "\n",
    "lista = ''.join([char.replace('a', '4').replace('e','3').replace('l','1').replace('t','7') for char in palavra5])\n",
    "\n",
    "lista"
   ]
  },
  {
   "cell_type": "code",
   "execution_count": null,
   "metadata": {},
   "outputs": [],
   "source": [
    "# RESOLUÇÃO PROFESSOR\n",
    "\n",
    "# solicita a palavra pro usuário\n",
    "palavra = input(\"Digite uma palavra: \")\n",
    "\n",
    "# inicializa uma string vazia\n",
    "string_nova = \"\"\n",
    "\n",
    "\n",
    "# percorre cada caractere da palavra\n",
    "for letra in palavra:\n",
    "    \n",
    "    # faz as mudanças para as letras indicadas\n",
    "    if letra == \"a\":\n",
    "        letra = \"4\"\n",
    "    elif letra == \"e\":\n",
    "        letra = \"3\"\n",
    "    elif letra == \"l\":\n",
    "        letra = \"1\"\n",
    "    elif letra == \"t\":\n",
    "        letra = \"7\"\n",
    "    \n",
    "    # concatena as letras modificadas (se elas o tiverem sido acima) à string inicial\n",
    "    string_nova = string_nova + letra\n",
    "    \n",
    "print(\"\\nString copiada:\", string_nova)"
   ]
  },
  {
   "cell_type": "markdown",
   "metadata": {},
   "source": [
    "6.Faça uma função que recebe uma string e retorna ela ao contrário. Exemplo: Recebe \"teste\" e retorna \"etset\". \n"
   ]
  },
  {
   "cell_type": "code",
   "execution_count": 5,
   "metadata": {},
   "outputs": [
    {
     "data": {
      "text/plain": [
       "'etset'"
      ]
     },
     "execution_count": 5,
     "metadata": {},
     "output_type": "execute_result"
    }
   ],
   "source": [
    "def inverte_palavra(palavra):\n",
    "    \n",
    "    return palavra[::-1]\n",
    "\n",
    "inverte_palavra(\"teste\")"
   ]
  },
  {
   "cell_type": "code",
   "execution_count": 49,
   "metadata": {},
   "outputs": [
    {
     "name": "stdout",
     "output_type": "stream",
     "text": [
      "Por favor, digite uma palavra: teste\n"
     ]
    },
    {
     "data": {
      "text/plain": [
       "'etset'"
      ]
     },
     "execution_count": 49,
     "metadata": {},
     "output_type": "execute_result"
    }
   ],
   "source": [
    "# USANDO LISTAS\n",
    "\n",
    "palavra6 = list(input('Por favor, digite uma palavra: '))\n",
    "\n",
    "palavra6 = palavra6[::-1]\n",
    "\n",
    "\"\".join(palavra6)"
   ]
  },
  {
   "cell_type": "markdown",
   "metadata": {},
   "source": [
    "\n",
    "7.Agora faça uma função que recebe uma palavra e diz se ela é um palíndromo, ou seja, se ela é igual a ela mesma ao contrário. Dica: Use a função do exercício 6."
   ]
  },
  {
   "cell_type": "code",
   "execution_count": 8,
   "metadata": {},
   "outputs": [
    {
     "name": "stdout",
     "output_type": "stream",
     "text": [
      "A palavra digitada é um palíndromo!\n",
      "A palavra digitada NÃO é um palíndromo!\n"
     ]
    }
   ],
   "source": [
    "def checa_palindromo(palavra):\n",
    "    \n",
    "    palavra_ao_contrario = inverte_palavra(palavra)\n",
    "    \n",
    "    if palavra == palavra_ao_contrario:\n",
    "        \n",
    "        print(\"A palavra digitada é um palíndromo!\")\n",
    "        \n",
    "    else:\n",
    "        \n",
    "        print(\"A palavra digitada NÃO é um palíndromo!\")\n",
    "        \n",
    "checa_palindromo(\"arara\")\n",
    "\n",
    "checa_palindromo(\"avião\")"
   ]
  },
  {
   "cell_type": "code",
   "execution_count": 22,
   "metadata": {},
   "outputs": [
    {
     "name": "stdout",
     "output_type": "stream",
     "text": [
      "Por favor, digite uma palavra: oi\n",
      "A palavra digitada NÃO é um palíndromo!\n"
     ]
    }
   ],
   "source": [
    "# OUTRA OPÇÃO DE RESOLUÇÃO\n",
    "\n",
    "palavra7 = str(input('Por favor, digite uma palavra: '))\n",
    "            \n",
    "tam = len(palavra7)\n",
    "verif = 0\n",
    "\n",
    "for i in range(0, tam // 2):\n",
    "    \n",
    "    if palavra7[i] != palavra7[-i-1]:\n",
    "        \n",
    "        print(\"A palavra digitada NÃO é um palíndromo!\")\n",
    "    \n",
    "    else:\n",
    "        \n",
    "        verif = verif + 1\n",
    "        \n",
    "if verif != 0:\n",
    "    \n",
    "    print(\"A palavra digitada é um palíndromo!\")"
   ]
  },
  {
   "cell_type": "markdown",
   "metadata": {},
   "source": [
    "8.Faça uma função que receba um texto e uma palavra, então verifique se a palavra está no texto, retornando True ou False. "
   ]
  },
  {
   "cell_type": "code",
   "execution_count": 58,
   "metadata": {
    "scrolled": false
   },
   "outputs": [
    {
     "name": "stdout",
     "output_type": "stream",
     "text": [
      "Digite um texto: aça uma função que receba um texto e uma palavra, então verifique se a palavra está no texto, retornando True ou False.\n",
      "Digite uma palavra: funç\n"
     ]
    },
    {
     "data": {
      "text/plain": [
       "False"
      ]
     },
     "execution_count": 58,
     "metadata": {},
     "output_type": "execute_result"
    }
   ],
   "source": [
    "texto = input(\"Digite um texto: \")\n",
    "\n",
    "palavra = input(\"Digite uma palavra: \")\n",
    "\n",
    "(palavra in texto.split())\n",
    "    "
   ]
  },
  {
   "cell_type": "code",
   "execution_count": 9,
   "metadata": {},
   "outputs": [
    {
     "name": "stdout",
     "output_type": "stream",
     "text": [
      "True\n",
      "\n",
      "\n",
      "False\n"
     ]
    }
   ],
   "source": [
    "# RESOLUÇÃO PROFESSOR\n",
    "\n",
    "def palavra_no_texto(palavra, texto):\n",
    "    \n",
    "    if palavra in texto:\n",
    "        \n",
    "        return True\n",
    "    \n",
    "    else:\n",
    "        \n",
    "        return False\n",
    "\n",
    "\n",
    "print(palavra_no_texto(\"python\", \"programar em python é muito legal!\"))\n",
    "\n",
    "print(\"\\n\")\n",
    "\n",
    "# chama a função\n",
    "print(palavra_no_texto(\"programação\", \"qualquer frase aleatória\"))"
   ]
  },
  {
   "cell_type": "code",
   "execution_count": null,
   "metadata": {},
   "outputs": [],
   "source": []
  },
  {
   "cell_type": "markdown",
   "metadata": {},
   "source": [
    "9.Faça uma função que receba uma string que contém tanto números quanto letras e caracteres especiais, e que separe as letras em uma variável e os números em outra (os caracteres especiais podem ser descartados). Ao final a função deve imprimir as duas variáveis."
   ]
  },
  {
   "cell_type": "code",
   "execution_count": 11,
   "metadata": {},
   "outputs": [
    {
     "name": "stdout",
     "output_type": "stream",
     "text": [
      "Digite uma string: olasdkfj098098\n",
      "Apenas as letras: olasdkfj\n",
      "Apenas os números: 098098\n",
      "\n"
     ]
    }
   ],
   "source": [
    "string = input(\"Digite uma string: \")\n",
    "\n",
    "numeros = \"\".join([char for char in string if char.isdigit()])\n",
    "letras = \"\".join([char for char in string if char.isalpha()])\n",
    "\n",
    "string = \"\".join([string.replace(char, \"\") for char in string if not char.isalnum()]) # porque está rodando 2x??\n",
    "\n",
    "print(f\"Apenas as letras: {letras}\")\n",
    "print(f\"Apenas os números: {numeros}\")\n",
    "print(string)"
   ]
  },
  {
   "cell_type": "code",
   "execution_count": null,
   "metadata": {},
   "outputs": [],
   "source": [
    "# RESOLUÇÃO PROFESSOR\n",
    "\n",
    "def separa_caracteres(string):\n",
    "    \n",
    "    # cria listas vazias para armazenas letras e numeros\n",
    "    letras = []\n",
    "    numeros = []\n",
    "    \n",
    "    # percorre os caracteres da string\n",
    "    for caractere in string:\n",
    "        \n",
    "        # checa se o caractere é uma letra com a função .isalpha()\n",
    "        if caractere.isalpha():\n",
    "            \n",
    "            # apenda a letra à lista de letras\n",
    "            letras.append(caractere)\n",
    "         \n",
    "        # checa se o caractere é um numero com a função .isdigit()\n",
    "        elif caractere.isdigit():\n",
    "            \n",
    "            # apenda o número à lista de números\n",
    "            numeros.append(caractere)\n",
    "            \n",
    "            \n",
    "    print(\"\\nString inicial:\", string)\n",
    "    \n",
    "    print(\"\\nLetras:\", letras)\n",
    "    \n",
    "    print(\"\\nNúmeros:\", numeros)\n",
    "    \n",
    "############################################################################\n",
    "############################################################################\n",
    "\n",
    "# chama a função\n",
    "separa_caracteres(\"Meu celular é: (11) 91234-5678\")    "
   ]
  },
  {
   "cell_type": "markdown",
   "metadata": {},
   "source": [
    "___\n",
    "___\n",
    "___\n",
    "___"
   ]
  },
  {
   "cell_type": "markdown",
   "metadata": {},
   "source": [
    "# DESAFIOS"
   ]
  },
  {
   "cell_type": "markdown",
   "metadata": {},
   "source": [
    "1.Faça uma função que receba uma string e uma letra e: \n",
    "\n",
    "- a.imprima quantas vezes a letra aparece na string; \n",
    "\n",
    "- b.imprima todas as posições em que a letra aparece na string; \n",
    "\n",
    "- c.retorne a distância entre a primeira e a última aparição dessa letra na string. "
   ]
  },
  {
   "cell_type": "code",
   "execution_count": 13,
   "metadata": {
    "scrolled": true
   },
   "outputs": [
    {
     "name": "stdout",
     "output_type": "stream",
     "text": [
      "Digite uma string: papagaio\n",
      "Digite uma letra: a\n",
      "(a) A letra digitada aparece 3 vez(es) na string digitada: \n",
      "(b) A letra aparece nas posições:  [1, 3, 5]\n",
      "(c) A distância entre a primeira e a última aparições dessa letra é de 4 posições.\n"
     ]
    }
   ],
   "source": [
    "string = input(\"Digite uma string: \")\n",
    "letra = input(\"Digite uma letra: \")\n",
    "posicao = []\n",
    "\n",
    "string = string.lower()\n",
    "cont = string.count(letra)\n",
    "\n",
    "[posicao.append(l) for l in range(len(string)) if string[l] == letra]\n",
    "\n",
    "dist = string.rfind(letra)-string.find(letra) #rfind pega a posição da aparição na direita (right) e o find na primeira posição\n",
    "\n",
    "print(f\"(a) A letra digitada aparece {cont} vez(es) na string digitada: \")\n",
    "print(\"(b) A letra aparece nas posições: \", posicao)\n",
    "print(f\"(c) A distância entre a primeira e a última aparições dessa letra é de {dist} posições.\")"
   ]
  },
  {
   "cell_type": "code",
   "execution_count": 14,
   "metadata": {},
   "outputs": [],
   "source": [
    "# RESOLUÇÃO PROFESSOR\n",
    "\n",
    "def funcao_desafio_1(letra, string):\n",
    "    \n",
    "    # a.imprima quantas vezes a letra aparece na string; \n",
    "    \n",
    "    cont = 0\n",
    "    \n",
    "    for char in string:\n",
    "        \n",
    "        if char == letra:\n",
    "            \n",
    "            cont = cont + 1\n",
    "            \n",
    "    print(\"A letra '\" + letra + \"' aparece na string '\" + string + \"'\", cont, \"vezes\")\n",
    "    \n",
    "    #____________________________________________________________\n",
    "    \n",
    "    # b.imprima todas as posições em que a letra aparece na string; \n",
    "\n",
    "    posicoes = []\n",
    "\n",
    "    for i in range(len(string)):\n",
    "        \n",
    "        if string[i] == letra:\n",
    "            \n",
    "            posicoes.append(i)\n",
    "            \n",
    "    print(\"A letra '\" + letra + \"' aparece na string '\" + string + \"' nas posições\", posicoes)\n",
    "    \n",
    "    #____________________________________________________________\n",
    "    \n",
    "    # c.retorne a distância entre a primeira e a última aparição dessa letra na string. \n",
    "    \n",
    "    # a posição da ultima aparição é posicoes[-1]\n",
    "    # a posição da primeira aparição é posicoes[0]\n",
    "    # assim, a distâncie é a diferença entre as posições\n",
    "    distancia = posicoes[-1] - posicoes[0]\n",
    "    \n",
    "    # vamor retornar a distancia\n",
    "    return distancia\n",
    "    \n",
    "\n",
    "############################################################################\n",
    "############################################################################\n",
    "   \n",
    "# vamos armazenar a distasncia (que é o valor retornado pela função) na variavel \"distancia_primeira_ultima\"\n",
    "distancia_primeira_ultima = funcao_desafio_1(\"a\", \"papagaio\")\n",
    "\n",
    "print(distancia_primeira_ultima)"
   ]
  },
  {
   "cell_type": "markdown",
   "metadata": {},
   "source": [
    "2.Super Desafio! - faça uma função que criptografa uma mensagem substituindo cada letra pela letra oposta do dicionário: 'a' por 'z' 'b' por 'y' 'c' por 'x' "
   ]
  },
  {
   "cell_type": "code",
   "execution_count": 87,
   "metadata": {},
   "outputs": [
    {
     "name": "stdout",
     "output_type": "stream",
     "text": [
      "Digite uma mensagem: Oi, tudo bem?\n",
      "Mensagem criptografada:  lr, gfwl yvn?\n"
     ]
    }
   ],
   "source": [
    "mensagem = (str(input(\"Digite uma mensagem: \")).lower())\n",
    "\n",
    "dic = ['a', 'b', 'c', 'd', 'e', 'f', 'g', 'h', 'i', 'j', 'k', 'l', 'm', 'n', 'o', 'p', 'q', 'r', 's', 't', 'u', 'v', 'w', 'x', 'y', 'z']\n",
    "\n",
    "cripto = \"\".join([dic[-(dic.index(i)+1)] if i in dic else i for i in mensagem])\n",
    "\n",
    "print(\"Mensagem criptografada: \", cripto)"
   ]
  },
  {
   "cell_type": "code",
   "execution_count": 15,
   "metadata": {},
   "outputs": [
    {
     "name": "stdout",
     "output_type": "stream",
     "text": [
      "Digite sua mensagem original: ASOIFASOIDF\n",
      "\n",
      "Sua mensagem criptografada: ZHLRUZHLRWU\n"
     ]
    }
   ],
   "source": [
    "# RESOLUÇÃO COLEGA\n",
    "\n",
    "def cripto(msgn):\n",
    "  alfabeto = ['A', 'B', 'C', 'D', 'E', 'F', 'G', 'H', 'I', 'J', 'K', 'L', 'M', 'N', 'O', 'P', 'Q', 'R', 'S', 'T', 'U', 'V', 'W', 'X', 'Y', 'Z']\n",
    "  msgc = [alfabeto[-(alfabeto.index(i)+1)] if i in alfabeto else i for i in msgn ]\n",
    "  return (''.join(msgc))\n",
    "\n",
    "msg = input('Digite sua mensagem original: ').upper()\n",
    "print('\\nSua mensagem criptografada:',cripto(msg))"
   ]
  },
  {
   "cell_type": "code",
   "execution_count": null,
   "metadata": {},
   "outputs": [],
   "source": [
    "# RESOLUÇÃO PROFESSOR\n",
    "\n",
    "# primeiramente, definimos uma lista com cada letra do alfabeto\n",
    "\n",
    "# depois, o ponto é perceber que devemos trocar as letras segundo sua posição no alfabeto. Exemplo:\n",
    "    \n",
    "# - \"a\" (posição 0) é trocada por \"z\" (posição -1)\n",
    "# - \"b\" (posição 1) é trocada por \"y\" (posição -2)\n",
    "\n",
    "# Então, em termos dos índices, a troca é:\n",
    "    \n",
    "# 0 <--> -1\n",
    "# 1 <--> -2\n",
    "# 2 <--> -3\n",
    "# 3 <--> -4\n",
    "\n",
    "# ... e assim por diante!\n",
    "\n",
    "# Note, então, que o padrão é trocar:\n",
    "    \n",
    "# n <--> -(n+1)\n",
    "\n",
    "# uma vez que percebemos isso, basta:\n",
    "    \n",
    "# - descobrir qual é a posição de cada letra no alfabeto: pra isso, usamos a função .index()\n",
    "# - retornar a letra na posição -(n+1) do alfabeto: ou seja, alfabeto[-(n+1)]\n",
    "\n",
    "# pra deixar o programa mais robusto, antes de fazer a troca de letras, nós checamos se \n",
    "# o caractere da string pertence ao afabeto.\n",
    "\n",
    "# - Se pertencer, nós fazemos a troca.\n",
    "# - Se não pertencer (que é o caso de caracteres como números, espaço, pontuações, etc.), nós não trocamos\n",
    "\n",
    "def criptografa(string):\n",
    "            \n",
    "    alfabeto = list(\"abcdefghijklmnopqrstuvwxyz\")\n",
    "    \n",
    "    nova_string = \"\"\n",
    "    \n",
    "    for char in string:\n",
    "        \n",
    "        if char in alfabeto:\n",
    "            \n",
    "            # pega qual é o indice do caractere atual\n",
    "            n = alfabeto.index(char)\n",
    "            \n",
    "            # concatena à nova string o caractere com índice correspondente a -(n+1)\n",
    "            nova_string = nova_string + alfabeto[-(n+1)]\n",
    "\n",
    "        else:\n",
    "            \n",
    "            # aqui, concatena à nova string o proprio caracter, sem modificações\n",
    "            nova_string = nova_string + char\n",
    "\n",
    "\n",
    "    return nova_string\n",
    "\n",
    "############################################################################\n",
    "############################################################################\n",
    "\n",
    "# chama a função\n",
    "print(criptografa(\"uma mensagem super secreta\"))\n",
    "\n",
    "print(\"\\n\")\n",
    "\n",
    "# chama a função, com o output da função anterior, pra fazer o teste de funcionaento da função!\n",
    "# como usei o output anterior como input aqui, ele deve retornar o input anterior como output\n",
    "print(criptografa(\"fnz nvmhztvn hfkvi hvxivgz\"))"
   ]
  }
 ],
 "metadata": {
  "kernelspec": {
   "display_name": "Python 3",
   "language": "python",
   "name": "python3"
  },
  "language_info": {
   "codemirror_mode": {
    "name": "ipython",
    "version": 3
   },
   "file_extension": ".py",
   "mimetype": "text/x-python",
   "name": "python",
   "nbconvert_exporter": "python",
   "pygments_lexer": "ipython3",
   "version": "3.8.8"
  }
 },
 "nbformat": 4,
 "nbformat_minor": 4
}
