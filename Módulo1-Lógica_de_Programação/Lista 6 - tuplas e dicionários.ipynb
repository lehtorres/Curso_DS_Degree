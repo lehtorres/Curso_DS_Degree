{
 "cells": [
  {
   "cell_type": "markdown",
   "metadata": {},
   "source": [
    "# Lista 6 - tuplas e dicionários"
   ]
  },
  {
   "cell_type": "markdown",
   "metadata": {},
   "source": [
    "## Tuplas"
   ]
  },
  {
   "cell_type": "markdown",
   "metadata": {},
   "source": [
    "1. Crie uma tupla com todos os números de 0 a 9. Explore a sintaxe: use e depois não use parênteses.\n"
   ]
  },
  {
   "cell_type": "code",
   "execution_count": 4,
   "metadata": {},
   "outputs": [
    {
     "name": "stdout",
     "output_type": "stream",
     "text": [
      "(0, 1, 2, 3, 4, 5, 6, 7, 8, 9)\n",
      "(0, 1, 2, 3, 4, 5, 6, 7, 8, 9)\n"
     ]
    }
   ],
   "source": [
    "tupla = (0, 1, 2, 3, 4, 5, 6, 7, 8, 9)\n",
    "\n",
    "print(tupla)\n",
    "\n",
    "tupla_s = 0, 1, 2, 3, 4, 5, 6, 7, 8, 9\n",
    "\n",
    "print(tupla_s)"
   ]
  },
  {
   "cell_type": "markdown",
   "metadata": {},
   "source": [
    "2. Crie uma tupla com todos os pares entre 0 e 100 (inclusive).\n"
   ]
  },
  {
   "cell_type": "code",
   "execution_count": 1,
   "metadata": {},
   "outputs": [
    {
     "name": "stdout",
     "output_type": "stream",
     "text": [
      "(0, 2, 4, 6, 8, 10, 12, 14, 16, 18, 20, 22, 24, 26, 28, 30, 32, 34, 36, 38, 40, 42, 44, 46, 48, 50, 52, 54, 56, 58, 60, 62, 64, 66, 68, 70, 72, 74, 76, 78, 80, 82, 84, 86, 88, 90, 92, 94, 96, 98, 100)\n"
     ]
    }
   ],
   "source": [
    "lista = []\n",
    "\n",
    "for i in range(0,101): # MAIS SIMPLES: 'for i in range(0, 101, 2)' - não precisa do if\n",
    "    if i%2 == 0:\n",
    "        lista.append(i)\n",
    "\n",
    "tupla = tuple(lista)\n",
    "\n",
    "print(tupla)"
   ]
  },
  {
   "cell_type": "markdown",
   "metadata": {},
   "source": [
    "3. Crie uma função que recebe uma lista de números e devolve, nesta ordem, o mínimo, a média, o desvio padrão e o máximo.\n"
   ]
  },
  {
   "cell_type": "code",
   "execution_count": 4,
   "metadata": {},
   "outputs": [
    {
     "data": {
      "text/plain": [
       "(1, 5.0, 2.9277002188455996, 9)"
      ]
     },
     "execution_count": 4,
     "metadata": {},
     "output_type": "execute_result"
    }
   ],
   "source": [
    "from math import sqrt\n",
    "\n",
    "def calculos_nums (lista_nums):\n",
    "\n",
    "    soma = 0\n",
    "    minimo = min(lista_nums)\n",
    "    media = sum(lista_nums)/len(lista_nums)\n",
    "   \n",
    "    for i in lista_nums:\n",
    "        \n",
    "        soma = soma + ((i-media)**2)/(len(lista_nums)-1)\n",
    "        \n",
    "    desvpad = sqrt(soma)\n",
    "    maximo = max(lista_nums)\n",
    "    \n",
    "    return minimo, media, desvpad, maximo\n",
    "\n",
    "lista_nums = [8, 6, 3, 1, 2, 4, 9, 7]\n",
    "\n",
    "calculos_nums (lista_nums) # A função retorna uma tupla"
   ]
  },
  {
   "cell_type": "markdown",
   "metadata": {},
   "source": [
    "4. Crie uma função que recebe uma lista e retorna True se todos os seus elementos forem numéricos (int, float ou string contendo um int ou float) ou False do contrário. A função deve também retornar a lista tratada: transformar todas as entradas não numéricas em numéricas ou, no melhor caso, devolver a lista apenas.\n"
   ]
  },
  {
   "cell_type": "code",
   "execution_count": 4,
   "metadata": {},
   "outputs": [
    {
     "name": "stdout",
     "output_type": "stream",
     "text": [
      "[-1, 2.7, '3.14']\n",
      "É numérica? True\n",
      "Tratada:  [-1, 2.7, '3.14']\n",
      "[1, 'dois', 3.0]\n",
      "É numérica? False\n",
      "Tratada:  [1, 0, 3.0]\n"
     ]
    }
   ],
   "source": [
    "def listaNumerica(lista):\n",
    "    tratada = []\n",
    "    saoNumericos = True\n",
    "\n",
    "    for elemento in lista:\n",
    "        string = str(elemento)\n",
    "        string = string.replace('-', '') # tratando sinal negativo\n",
    "        string = string.replace('.', '') # tratando ponto decimal\n",
    "        numerica = string.isdigit()   # retorna False se uma string contém qualquer coisa diferente de número\n",
    "        if numerica:\n",
    "            tratada.append(elemento)\n",
    "        else:\n",
    "            # o enunciado pediu para transformar entradas não-numéricas em numéricas\n",
    "            # como não especificaram COMO, vamos trocar não-numéricas por 0\n",
    "            tratada.append(0)\n",
    "            saoNumericos = False\n",
    "\n",
    "    return (saoNumericos, tratada)\n",
    "\n",
    "numerica = [-1, 2.7, '3.14']\n",
    "naoNumerica = [1, 'dois', 3.0]\n",
    "\n",
    "print(numerica)\n",
    "\n",
    "# o primeiro elemento da tupla retornada é atribuído à variável \"resp\",\n",
    "# e o segundo à variável \"lista\"\n",
    "resp, lista = listaNumerica(numerica)\n",
    "print('É numérica?', resp)\n",
    "print('Tratada: ', lista)\n",
    "\n",
    "print(naoNumerica)\n",
    "resp, lista = listaNumerica(naoNumerica)\n",
    "print('É numérica?', resp)\n",
    "print('Tratada: ', lista)\n"
   ]
  },
  {
   "cell_type": "markdown",
   "metadata": {},
   "source": [
    "5. Faça uma função que recebe valores a, b e c, resolve a equação quadrática ax^2+ bx + c = 0 e retorna:\n",
    "\n",
    "a. o valor de Δ onde Δ=b^2- 4ac;\n",
    "\n",
    "b. uma tupla com o valor do ponto de mínimo ou máximo, onde, x_m=-b/2a e y_m  = -Δ/4a;\n",
    "\n",
    "c. uma lista contendo as raízes (a lista pode ser vazia, caso Δ<0;  pode conter apenas um elemento, caso Δ = 0; ou conter duas raízes, caso Δ> 0).\n"
   ]
  },
  {
   "cell_type": "code",
   "execution_count": 10,
   "metadata": {},
   "outputs": [
    {
     "name": "stdout",
     "output_type": "stream",
     "text": [
      "2x² + x + 1 = 0\n",
      "delta = -7\n",
      "ponto min:  (-0.25, 0.875)\n",
      "raizes:  []\n",
      "-2x² + x + 1 = 0\n",
      "delta = 9\n",
      "ponto max:  (0.25, 1.125)\n",
      "raizes:  []\n",
      "x² + 2x + 1 = 0\n",
      "delta = 0\n",
      "ponto min:  (-1.0, 0.0)\n",
      "raizes:  [-1.0]\n"
     ]
    }
   ],
   "source": [
    "import math\n",
    "\n",
    "def equacao_quad (a, b, c):\n",
    "    \n",
    "    delta = b**2 - 4*a*c # (a)\n",
    "    \n",
    "    x_m = -b/(2*a) # (b)\n",
    "    y_m = -delta/(4*a) # (b)\n",
    "    \n",
    "    raizes = []\n",
    "    \n",
    "    if delta == 0:\n",
    "        raizes.append(x_m)\n",
    "        \n",
    "    elif delta > 0:\n",
    "        raiz_delta = math.sqrt(delta)\n",
    "        x1 = (-b + raiz_delta)/(2*a)\n",
    "        x2 = (-b - raiz_delta)/(2*a)\n",
    "        reizes = [x1, x2]\n",
    "        \n",
    "    return (delta, (x_m, y_m), raizes)\n",
    "\n",
    "# Equação com delta negativo: 2x² + x + 1 = 0\n",
    "delta, ponto, raizes = equacao_quad(2, 1, 1)\n",
    "print('2x² + x + 1 = 0')\n",
    "print('delta =', delta)\n",
    "print('ponto min: ', ponto)\n",
    "print('raizes: ', raizes)\n",
    "\n",
    "# Equação com delta positivo: -2x² + x + 1 = 0\n",
    "delta, ponto, raizes = equacao_quad(-2, 1, 1)\n",
    "print('-2x² + x + 1 = 0')\n",
    "print('delta =', delta)\n",
    "print('ponto max: ', ponto)\n",
    "print('raizes: ', raizes)\n",
    "\n",
    "# Equação com delta nulo: x² + 2x + 1 = 0\n",
    "delta, ponto, raizes = equacao_quad(1, 2, 1)\n",
    "print('x² + 2x + 1 = 0')\n",
    "print('delta =', delta)\n",
    "print('ponto min: ', ponto)\n",
    "print('raizes: ', raizes)"
   ]
  },
  {
   "cell_type": "markdown",
   "metadata": {},
   "source": [
    "## Dicionários"
   ]
  },
  {
   "cell_type": "markdown",
   "metadata": {},
   "source": [
    "1. Crie um dicionário cujas chaves são os meses do ano e os valores são a duração (em dias) de cada mês.\n"
   ]
  },
  {
   "cell_type": "code",
   "execution_count": 14,
   "metadata": {},
   "outputs": [
    {
     "name": "stdout",
     "output_type": "stream",
     "text": [
      "É bissexto!\n"
     ]
    }
   ],
   "source": [
    "dicionario = {'Janeiro': 31,'Fevereiro': 29, \"Março\": 31, \"Abril\": 30, \"Maio\": 31, \"Junho\": 30, \"Julho\": 31, \"Agosto\": 31, \"Setembro\": 30, \"Outubro\": 31, \"Novembro\": 30, \"Dezembro\": 31}\n",
    "\n",
    "if dicionario['Fevereiro'] == 28:\n",
    "    print(\"Não é bissexto!\")\n",
    "\n",
    "else:\n",
    "    print(\"É bissexto!\")"
   ]
  },
  {
   "cell_type": "markdown",
   "metadata": {},
   "source": [
    " 2. Imprima as chaves seguidas dos seus valores para o dicionário criado no exercício 1. "
   ]
  },
  {
   "cell_type": "code",
   "execution_count": 16,
   "metadata": {},
   "outputs": [
    {
     "name": "stdout",
     "output_type": "stream",
     "text": [
      "Janeiro - 31\n",
      "Fevereiro - 29\n",
      "Março - 31\n",
      "Abril - 30\n",
      "Maio - 31\n",
      "Junho - 30\n",
      "Julho - 31\n",
      "Agosto - 31\n",
      "Setembro - 30\n",
      "Outubro - 31\n",
      "Novembro - 30\n",
      "Dezembro - 31\n"
     ]
    }
   ],
   "source": [
    "for k, v in dicionario.items():\n",
    "    \n",
    "    print(\"%s - %d\" %(k,v))"
   ]
  },
  {
   "cell_type": "markdown",
   "metadata": {},
   "source": [
    "3. Crie um dicionário para as seguintes relações:\n",
    "\n",
    "‘Banana’: 3.0\n",
    "\n",
    "‘Cebola’: 4.0\n",
    "\n",
    "‘Maçã’: 5.7\n",
    "\n",
    "‘Abacaxi’: 8.0"
   ]
  },
  {
   "cell_type": "code",
   "execution_count": 18,
   "metadata": {
    "scrolled": true
   },
   "outputs": [
    {
     "name": "stdout",
     "output_type": "stream",
     "text": [
      "{'Banana': 3.0, 'Cebola': 4.0, 'Maçã': 5.7, 'Abacaxi': 8.0}\n"
     ]
    }
   ],
   "source": [
    "frutas = {'Banana': 3.0, 'Cebola': 4.0, 'Maçã': 5.7, 'Abacaxi': 8.0}\n",
    "\n",
    "print(frutas)"
   ]
  },
  {
   "cell_type": "markdown",
   "metadata": {},
   "source": [
    " 4. Altere o valor da chave ‘Maçã’ no dicionário do exercício anterior para 8.6.\n"
   ]
  },
  {
   "cell_type": "code",
   "execution_count": 19,
   "metadata": {},
   "outputs": [
    {
     "name": "stdout",
     "output_type": "stream",
     "text": [
      "{'Banana': 3.0, 'Cebola': 4.0, 'Maçã': 5.7, 'Abacaxi': 8.0, 'Maça': 8.6}\n"
     ]
    }
   ],
   "source": [
    "frutas[\"Maça\"] = 8.6\n",
    "\n",
    "print(frutas)"
   ]
  },
  {
   "cell_type": "markdown",
   "metadata": {},
   "source": [
    "5. Crie uma função que receba os valores do nome, idade e e-mail de uma pessoa e guarde-os em um dicionário com as chaves ‘nome’, ‘idade’ e ‘email’, respectivamente. Sua função deve retornar esse dicionário.\n"
   ]
  },
  {
   "cell_type": "code",
   "execution_count": 21,
   "metadata": {},
   "outputs": [
    {
     "name": "stdout",
     "output_type": "stream",
     "text": [
      "Nome da pessoa: Leh\n",
      "Idade da pessoa: 24\n",
      "E-mail da pessoa: @lkj\n",
      "{'nomes': 'Leh', 'idades': 24, 'email': '@lkj'}\n"
     ]
    }
   ],
   "source": [
    "def cadastro (nome, idade, email):\n",
    "    \n",
    "    dic_cadastro = {\"nomes\": nome, \"idades\": idade, \"email\": email}\n",
    "    \n",
    "    return dic_cadastro\n",
    "\n",
    "nome = input(\"Nome da pessoa: \")\n",
    "idade = int(input(\"Idade da pessoa: \"))\n",
    "email = input(\"E-mail da pessoa: \")\n",
    "\n",
    "cad = cadastro(nome, idade, email)\n",
    "\n",
    "print(cad)"
   ]
  },
  {
   "cell_type": "markdown",
   "metadata": {},
   "source": [
    " 6. Como você armazenaria a seguinte tabela usando apenas dicionários? Tente imprimir o valor correspondente da linha Pedro x Coluna B.\n",
    "\n",
    "<img src=https://s3-sa-east-1.amazonaws.com/lcpi/53b6d362-ff42-4068-904f-5e491cbbf9a8.JPG width=400>"
   ]
  },
  {
   "cell_type": "code",
   "execution_count": 50,
   "metadata": {},
   "outputs": [
    {
     "data": {
      "text/plain": [
       "3"
      ]
     },
     "execution_count": 50,
     "metadata": {},
     "output_type": "execute_result"
    }
   ],
   "source": [
    "tabela = {\"nomes\": [\"Maria\", \"Pedro\", \"João\"],\n",
    "          \"coluna_A\": [1, 0.5, 3.2],\n",
    "          \"coluna_B\": [5, 3, 1]}\n",
    "\n",
    "tabela[\"coluna_B\"][1]"
   ]
  },
  {
   "cell_type": "code",
   "execution_count": null,
   "metadata": {},
   "outputs": [],
   "source": [
    "# RESOLUÇÃO PROFESSOR\n",
    "\n",
    "tabela = {}\n",
    "\n",
    "# criando a estrutura da tabela como um dicionário pra cada chave\n",
    "# teremos, portanto, um dicionário de dicionários!\n",
    "tabela[\"Maria\"] = {\"Coluna A\": 1, \"Coluna B\": 5}\n",
    "tabela[\"Pedro\"] = {\"Coluna A\": 0.5, \"Coluna B\": 3}\n",
    "tabela[\"João\"] = {\"Coluna A\": 3.2, \"Coluna B\": 1}\n",
    "\n",
    "# descomenta abaixo se quiser ver o dicionario\n",
    "# print(tabela)\n",
    "\n",
    "# acessando o elemento solicitado\n",
    "print(tabela[\"Pedro\"][\"Coluna B\"])"
   ]
  },
  {
   "cell_type": "markdown",
   "metadata": {},
   "source": [
    "7. Faça uma função que receba uma lista e conte quantas vezes cada elemento apareceu nessa lista. Essa função deverá guardar os dados em um dicionário no qual as chaves são os elementos da lista e os valores são a contagem de quantas vezes esse elemento aparece.\n"
   ]
  },
  {
   "cell_type": "code",
   "execution_count": 23,
   "metadata": {},
   "outputs": [
    {
     "data": {
      "text/plain": [
       "{'Banana': 2, 'Maçã': 1, 'Abacaxi': 1}"
      ]
     },
     "execution_count": 23,
     "metadata": {},
     "output_type": "execute_result"
    }
   ],
   "source": [
    "def contaElementos(lista):\n",
    "    \n",
    "    mapa = {}\n",
    "    \n",
    "    for elemento in lista:\n",
    "        if elemento not in mapa.keys():\n",
    "            mapa[elemento] = 1\n",
    "        else:\n",
    "            mapa[elemento] = mapa[elemento] + 1\n",
    "        \n",
    "    return mapa\n",
    "\n",
    "lista_frutas = [\"Banana\", \"Maçã\", \"Banana\", \"Abacaxi\"]\n",
    "\n",
    "contaElementos(lista_frutas)"
   ]
  },
  {
   "cell_type": "code",
   "execution_count": 22,
   "metadata": {},
   "outputs": [
    {
     "data": {
      "text/plain": [
       "{'elementos': ['Banana', 'Maçã', 'Abacaxi'], 'contagem': [2, 1, 1]}"
      ]
     },
     "execution_count": 22,
     "metadata": {},
     "output_type": "execute_result"
    }
   ],
   "source": [
    "# RESOLUÇÃO ALTERNATIVA, NÃO TEM TUDO QUE ESTÁ PEDINDO\n",
    "\n",
    "def cont_elementos (lista_elementos):\n",
    "    \n",
    "    lista_check = []\n",
    "    lista_qtd = []\n",
    "    \n",
    "    for i in lista_elementos:\n",
    "        if i not in lista_check:\n",
    "            lista_check.append(i)\n",
    "    \n",
    "    for i in lista_check:\n",
    "        qtd = lista_elementos.count(i)\n",
    "        lista_qtd.append(qtd)\n",
    "    \n",
    "    elementos_lista = {\"elementos\": lista_check,\n",
    "                       \"contagem\": lista_qtd}\n",
    "    \n",
    "    return elementos_lista\n",
    "\n",
    "lista_elementos = [\"Banana\", \"Maçã\", \"Banana\", \"Abacaxi\"]\n",
    "\n",
    "cont_elementos(lista_elementos)"
   ]
  },
  {
   "cell_type": "markdown",
   "metadata": {},
   "source": [
    " 8. Faça um programa que fique pedindo uma resposta do usuário, entre 1, 2 e 3. Se o usuário digitar 1, o programa deve cadastrar um novo usuário nos moldes do exercício 5 e guardar esse cadastro num dicionário cuja chave será o CPF da pessoa. Quando o usuário digitar 2, o programa deve imprimir os usuários cadastrados; e se o usuário digitar 3, o programa deve fechar."
   ]
  },
  {
   "cell_type": "code",
   "execution_count": 39,
   "metadata": {},
   "outputs": [
    {
     "name": "stdout",
     "output_type": "stream",
     "text": [
      "Para cadastrar novo usuário, digite 1:\n",
      "Para ver os usuários cadastrados, digite 2:\n",
      "Para fechar, digite 3: \n",
      " Para buscar um usuário, digite 4\n",
      "1\n",
      "Insira o cpf a ser cadastrado: 123\n",
      "Para cadastrar novo usuário, digite 1:\n",
      "Para ver os usuários cadastrados, digite 2:\n",
      "Para fechar, digite 3: \n",
      " Para buscar um usuário, digite 4\n",
      "234\n",
      "Essa opção não existe! Para cadastrar novo usuário, digite 1;\n",
      "Para ver os usuários cadastrados, digite 2;\n",
      "Para fechar, digite 3: \n",
      "\n",
      "Para cadastrar novo usuário, digite 1:\n",
      "Para ver os usuários cadastrados, digite 2:\n",
      "Para fechar, digite 3: \n",
      " Para buscar um usuário, digite 4\n",
      "4\n",
      "Qual usuário está procurando? 123\n",
      "O cpf do usuário é: 123\n",
      "Para cadastrar novo usuário, digite 1:\n",
      "Para ver os usuários cadastrados, digite 2:\n",
      "Para fechar, digite 3: \n",
      " Para buscar um usuário, digite 4\n",
      "3\n",
      "O programa foi fechado!\n"
     ]
    }
   ],
   "source": [
    "dic_cadastro = {\"cpf\": []}\n",
    "\n",
    "def cadastro (cpf):\n",
    "    dic_cadastro[\"cpf\"].append(cpf)\n",
    "    return dic_cadastro\n",
    "\n",
    "resp = 0\n",
    "while resp != 3:\n",
    "\n",
    "    resp = int(input(\"Para cadastrar novo usuário, digite 1:\\nPara ver os usuários cadastrados, digite 2:\\nPara fechar, digite 3: \\nPara buscar um usuário, digite 4\\n\"))\n",
    "    \n",
    "    if resp == 1:\n",
    "        cpf = input(\"Insira o cpf a ser cadastrado: \")\n",
    "        dic_cadastro[\"cpf\"].append(cpf)\n",
    "        \n",
    "    elif resp == 2:\n",
    "        print(dic_cadastro)\n",
    "    \n",
    "    elif resp == 3:\n",
    "        print(\"O programa foi fechado!\")\n",
    "    \n",
    "    elif resp == 4:\n",
    "        busca = input(\"Qual usuário está procurando? \")\n",
    "        if busca in dic_cadastro[\"cpf\"]:\n",
    "            print(f\"O cpf do usuário é: {busca}\")\n",
    "        else:\n",
    "            print(\"Esse cpf não está cadastrado\")\n",
    "    \n",
    "    else:\n",
    "        print(\"Essa opção não existe! Para cadastrar novo usuário, digite 1;\\nPara ver os usuários cadastrados, digite 2;\\nPara fechar, digite 3: \\n\")\n",
    "        \n",
    "    \n"
   ]
  },
  {
   "cell_type": "code",
   "execution_count": 29,
   "metadata": {},
   "outputs": [
    {
     "name": "stdout",
     "output_type": "stream",
     "text": [
      "\n",
      "\n",
      "As opções são:\n",
      "1 - Cadastrar novo usuário\n",
      "2 - Mostrar usuários cadastrados\n",
      "3 - Fechar programa\n",
      "4 - Pesquisar usuário\n",
      "Escolha uma opção: 3\n",
      "\n",
      "\n"
     ]
    }
   ],
   "source": [
    "# RESOLUÇÃO PROFESSOR\n",
    "\n",
    "def cadastraPessoa(nome, idade, email): #função do exercício 5\n",
    "    return { \"nome\": nome, \"idade\": idade, \"email\": email }\n",
    "\n",
    "usuarios = {}\n",
    "entrada = 0 # Começa a variável num valor que entra no loop\n",
    "\n",
    "while entrada != 3:\n",
    "    \n",
    "    print(\"\\n\")\n",
    "    print(\"As opções são:\")\n",
    "    print(\"1 - Cadastrar novo usuário\")\n",
    "    print(\"2 - Mostrar usuários cadastrados\")\n",
    "    print(\"3 - Fechar programa\")\n",
    "    print(\"4 - Pesquisar usuário\")\n",
    "    entrada = int(input(\"Escolha uma opção: \"))\n",
    "    print(\"\\n\")\n",
    "    \n",
    "    if entrada == 1:\n",
    "        print(\"Cadastro de usuário\")\n",
    "        CPF = input(\"CPF: \")\n",
    "        nome = input(\"Nome: \")\n",
    "        idade = int(input(\"Idade: \"))\n",
    "        email = input(\"Email: \")\n",
    "        usuarios[CPF] = cadastraPessoa(nome, idade, email) \n",
    "        print(\"Usuário Cadastrado\")\n",
    "\n",
    "    elif entrada == 2:\n",
    "        if len(usuarios) == 0:\n",
    "            print(\"Não há usuários cadastrados\")\n",
    "        else:\n",
    "            print(\"Lista de usuários cadastrados\")\n",
    "            for i in usuarios.items():\n",
    "                print(i)\n",
    "    \n",
    "    elif entrada == 4:\n",
    "        print(\"Pesquisa de usuário\")\n",
    "        CPF = input(\"CPF: \")\n",
    "        if CPF in usuarios.keys():\n",
    "            print(usuarios[CPF])\n",
    "        else:\n",
    "            print(\"Esse usuário não existe\")\n"
   ]
  },
  {
   "cell_type": "markdown",
   "metadata": {},
   "source": [
    "9. Implemente um sistema de busca para o programa do exercício 7, isso é, se o usuário digitar 4, procure um determinado usuário pelo seu CPF.\n"
   ]
  },
  {
   "cell_type": "code",
   "execution_count": 24,
   "metadata": {},
   "outputs": [
    {
     "name": "stdout",
     "output_type": "stream",
     "text": [
      "Qual usuário está procurando? 123\n",
      "Esse cpf não está cadastrado\n"
     ]
    }
   ],
   "source": [
    "busca = int(input(\"Qual usuário está procurando? \"))\n",
    "\n",
    "if busca in dic_cadastro.values():\n",
    "    cpf_procurado = dic_cadastro[busca]\n",
    "    print(f\"O cpf do usuário é: {cpf_procurado}\")\n",
    "else:\n",
    "    print(\"Esse cpf não está cadastrado\")\n",
    "\n"
   ]
  },
  {
   "cell_type": "markdown",
   "metadata": {},
   "source": [
    " 10. Faça o análogo do exercício 7 para strings: conte quantas vezes cada caracter apareceu nessa string e retorne um dicionário com essa contagem.\n"
   ]
  },
  {
   "cell_type": "code",
   "execution_count": 34,
   "metadata": {},
   "outputs": [
    {
     "data": {
      "text/plain": [
       "{'p': 1, 'a': 3, 'r': 2}"
      ]
     },
     "execution_count": 34,
     "metadata": {},
     "output_type": "execute_result"
    }
   ],
   "source": [
    "def cont_string(string):\n",
    "    contagem_char = {}\n",
    "    \n",
    "    for k in string:\n",
    "        if k not in contagem_char:\n",
    "            contagem_char[k] = 1\n",
    "        else:\n",
    "            contagem_char[k] = contagem_char[k] + 1\n",
    "    \n",
    "    return contagem_char\n",
    "\n",
    "string = \"parara\"\n",
    "\n",
    "cont_string(string)"
   ]
  },
  {
   "cell_type": "code",
   "execution_count": 96,
   "metadata": {},
   "outputs": [
    {
     "data": {
      "text/plain": [
       "{'char': ['p', 'a', 'r'], 'contagem': [1, 3, 2]}"
      ]
     },
     "execution_count": 96,
     "metadata": {},
     "output_type": "execute_result"
    }
   ],
   "source": [
    "# RESPOSTA ALTERNATIVA - MEIO QUE CERTA\n",
    "\n",
    "def cont_char (string):\n",
    "    \n",
    "    lista_check = []\n",
    "    lista_qtd = []\n",
    "    \n",
    "    for i in string:\n",
    "        if i not in lista_check:\n",
    "            lista_check.append(i)\n",
    "    \n",
    "    for i in lista_check:\n",
    "        qtd = string.count(i)\n",
    "        lista_qtd.append(qtd)\n",
    "    \n",
    "    char_lista = {\"char\": lista_check,\n",
    "                  \"contagem\": lista_qtd}\n",
    "    \n",
    "    return char_lista\n",
    "\n",
    "string = \"parara\"\n",
    "\n",
    "cont_char(string)"
   ]
  }
 ],
 "metadata": {
  "kernelspec": {
   "display_name": "Python 3",
   "language": "python",
   "name": "python3"
  },
  "language_info": {
   "codemirror_mode": {
    "name": "ipython",
    "version": 3
   },
   "file_extension": ".py",
   "mimetype": "text/x-python",
   "name": "python",
   "nbconvert_exporter": "python",
   "pygments_lexer": "ipython3",
   "version": "3.8.8"
  }
 },
 "nbformat": 4,
 "nbformat_minor": 4
}
