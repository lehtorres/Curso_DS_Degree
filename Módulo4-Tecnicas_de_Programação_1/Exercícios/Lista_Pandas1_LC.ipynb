{
 "cells": [
  {
   "cell_type": "markdown",
   "id": "6c675726",
   "metadata": {},
   "source": [
    "***LISTA 1 PANDAS***"
   ]
  },
  {
   "cell_type": "code",
   "execution_count": 1,
   "id": "97f3d772",
   "metadata": {},
   "outputs": [],
   "source": [
    "import pandas as pd\n",
    "import numpy as np"
   ]
  },
  {
   "cell_type": "markdown",
   "id": "74e9eb58",
   "metadata": {},
   "source": [
    "***1.*** Em um concurso público foram contabilizados os números de pessoas inscritas (até a data inicialmente estabelecida para a inscrição) segundo os níveis de escolaridade: fundamental completo, médio completo, superior completo e pós-graduação completa. Segue abaixo a tabela com os valores observados.\n",
    "\n",
    "Nível de escolaridade\tInscritos\n",
    "Fundamental completo\t451\n",
    "Médio completo\t627\n",
    "Superior completo\t292\n",
    "Pós-graduação completa\t95\n",
    "Com base na tabela acima, crie uma Series com esses valores e calcule:\n",
    "\n",
    "(a) O número total de inscritos\n",
    "\n",
    "(b) Número inscritos que possuem, pelo menos, o superior completo.\n",
    "\n",
    "(c) Suponha que a inscrição foi prorrogada e, com isso, foi obtido um número adicional de inscrições: 68, 93, 22 e 0 inscritos a mais em cada uma das categorias de escolaridade apresentados na tabela acima (na mesma ordem). Assim, crie uma nova Series com esses valores.\n",
    "\n",
    "(d) Utilizando as duas Series que você tem, calcule o número total de inscritos após a prorrogação do período de inscrições."
   ]
  },
  {
   "cell_type": "code",
   "execution_count": 2,
   "id": "639b8db4",
   "metadata": {},
   "outputs": [
    {
     "data": {
      "text/plain": [
       "1648"
      ]
     },
     "execution_count": 2,
     "metadata": {},
     "output_type": "execute_result"
    }
   ],
   "source": [
    "# RESOLUÇÃO\n",
    "# Criação da Series\n",
    "\n",
    "nivel_esc = ['Fundamental_completo','Medio_completo','Superior_completo','Pos_graduação']\n",
    "num_inscritos = [451, 627, 292, 95]\n",
    "\n",
    "inscritos = pd.Series(data=num_inscritos, index=nivel_esc)\n",
    "\n",
    "# (a)\n",
    "inscritos.sum()\n",
    "\n",
    "# (b)\n",
    "inscritos.iloc[2:4].sum()\n",
    "\n",
    "# (c)\n",
    "inscritos_extra = pd.Series(data=[68,93,22,0], index=nivel_esc)\n",
    "\n",
    "# (d)\n",
    "total_inscritos = inscritos + inscritos_extra\n",
    "total_inscritos.sum()"
   ]
  },
  {
   "cell_type": "markdown",
   "id": "2a2ec9d0",
   "metadata": {},
   "source": [
    "***2.*** Uma turma de cinco alunos foi submetida a uma avaliação e a nota de cada um dos alunos é apresentada na tabela abaixo:\n",
    "\n",
    "Nome do Aluno\tNota\n",
    "Wilfred\t2\n",
    "Abbie\t7\n",
    "Harry\t5.5\n",
    "Julia\t10\n",
    "Carrie\t6.2\n",
    "\n",
    "(a) Crie uma Series com os valores da tabela acima.\n",
    "\n",
    "(b) Retorne o número de alunos que foram aprovados (considerando que a nota mínima para a aprovação é 7).\n",
    "\n",
    "(c) Qual foi a nota média da turma.\n",
    "\n",
    "(d) Obtenha o nome dos alunos que tiraram notas acima da média da turma."
   ]
  },
  {
   "cell_type": "code",
   "execution_count": 3,
   "id": "a183425f",
   "metadata": {},
   "outputs": [
    {
     "name": "stdout",
     "output_type": "stream",
     "text": [
      "6.14\n"
     ]
    },
    {
     "data": {
      "text/plain": [
       "Index(['Abbie', 'Julia', 'Carrie'], dtype='object')"
      ]
     },
     "execution_count": 3,
     "metadata": {},
     "output_type": "execute_result"
    }
   ],
   "source": [
    "# RESOLUÇÃO\n",
    "# (a) Criação Series\n",
    "notas_turma = pd.Series(data=[2,7,5.5,10,6.2], index=['Wilfred','Abbie','Harry','Julia','Carrie'])\n",
    "notas_turma\n",
    "\n",
    "# (b) Alunos aprovados\n",
    "filtro_apr = notas_turma >= 7\n",
    "len(notas_turma[filtro_apr])\n",
    "\n",
    "# (c) Nota média da turma\n",
    "media_turma = notas_turma.mean()\n",
    "print(media_turma)\n",
    "\n",
    "# (d) Nome alunos acima da média\n",
    "filtro_media = notas_turma > media_turma\n",
    "notas_turma.index[filtro_media]"
   ]
  },
  {
   "cell_type": "markdown",
   "id": "7d5d683d",
   "metadata": {},
   "source": [
    "***3.*** Crie um objeto DataFrame que contenha os dados da tabela abaixo, os quais se referem ao peso, altura e idade de cinco pessoas:\n",
    "\n",
    "Peso (kg)\tAltura (cm)\tIdade\n",
    "72\t180\t31\n",
    "80\t170\t21\n",
    "60\t175\t16\n",
    "90\t174\t28\n",
    "100\t185\t23\n",
    "Com base no DataFrame criado, realize o que pedido nos itens abaixo:\n",
    "    \n",
    "\n",
    "(a) Visualize apenas os dados da coluna que contém a altura das pessoas.\n",
    "\n",
    "(b) Obtenha a idade média das pessoas.\n",
    "\n",
    "(c) Obtenha os dados das pessoas que estão abaixo da altura média.\n",
    "\n",
    "(d) Crie um nova coluna no DataFrame que contenha o IMC (Índice de Massa Corporal) de cada pessoa.\n",
    "\n",
    "(e) Remova a coluna que contém a idade das pessoas.\n",
    "\n",
    "(f) Salve esses dados do DataFrame em um arquivo csv."
   ]
  },
  {
   "cell_type": "code",
   "execution_count": 4,
   "id": "52304be4",
   "metadata": {},
   "outputs": [
    {
     "name": "stdout",
     "output_type": "stream",
     "text": [
      "176.8\n"
     ]
    }
   ],
   "source": [
    "# Criação dataframe atraves de dicionário\n",
    "cadastro = {\"Peso\" : [72,80,60,90,100],\n",
    "                \"Altura\" : [180,170,175,174,185],\n",
    "                \"Idade\" : [31,21,16,28,23]}\n",
    "\n",
    "df = pd.DataFrame(cadastro)\n",
    "\n",
    "# (a) Alturas\n",
    "df[['Altura']]\n",
    "\n",
    "# (b) Idade média das pessoas\n",
    "df.Idade.mean()\n",
    "\n",
    "# (c) Dados das pessoas abaixo da altura média\n",
    "altura_media = df['Altura'].mean()\n",
    "filtro_altura = df['Altura'] < altura_media \n",
    "print(altura_media) \n",
    "df[filtro_altura]\n",
    "\n",
    "# (d) Coluna IMC\n",
    "df['IMC'] = df['Peso']/((df['Altura']/100)**2)\n",
    "df=df.round(2)\n",
    "df\n",
    "\n",
    "# (e) ELiminar coluna Idade\n",
    "del df['Idade']\n",
    "df\n",
    "\n",
    "# (f) Salvar como csv\n",
    "df.to_csv('Cadastro_Pessoas.csv')"
   ]
  },
  {
   "cell_type": "markdown",
   "id": "27bbe393",
   "metadata": {},
   "source": [
    "***4.*** Carregue, em um objeto DataFrame, o arquivo CSV que você salvou no item (f) da questão anterior. Em seguida,\n",
    "\n",
    "(a) Crie uma nova coluna que contenha o nome das pessoas (sinta-se à vontade para atribuir os nomes que preferir).\n",
    "\n",
    "(b) Defina a nova coluna criada (com os nomes) como o índice (index) do seu DataFrame.\n",
    "\n",
    "(c) Obtenha o nome das pessoas que são classificadas com Sobrepeso (IMC entre 25 e 29,9)."
   ]
  },
  {
   "cell_type": "code",
   "execution_count": 5,
   "id": "a424b9f3",
   "metadata": {},
   "outputs": [
    {
     "data": {
      "text/plain": [
       "Index(['Maria', 'Ana', 'Juca'], dtype='object')"
      ]
     },
     "execution_count": 5,
     "metadata": {},
     "output_type": "execute_result"
    }
   ],
   "source": [
    "# Carregando DataFrame\n",
    "df_4 = pd.read_csv('./Cadastro_Pessoas.csv',index_col=[0]) #tirando coluna index adicional no exercicio anterior\n",
    "df_4 \n",
    "\n",
    "# (a) Coluna nomes\n",
    "df_4['Nomes'] = ['João','Maria','Chico','Ana','Juca']\n",
    "df_4\n",
    "\n",
    "# (b) Coluna nomes como index\n",
    "df_4.set_index('Nomes', inplace = True)\n",
    "df_4.index.names=[None]\n",
    "df_4\n",
    "\n",
    "# (c) Nomes com sobrepeso\n",
    "filtro_imc = (df_4['IMC'] >= 25) & (df_4['IMC'] <= 29.9)\n",
    "df_4.index[filtro_imc]"
   ]
  },
  {
   "cell_type": "markdown",
   "id": "18cd6418",
   "metadata": {},
   "source": [
    "***5.*** Carregue, em um objeto DataFrame, o mesmo dataset que você salvou na Questão 3. Em seguida,\n",
    "\n",
    "(a) Adicione uma nova coluna nesse DF chamada Classificação, que contenha a classificação de cada indivíduo, de acordo com o seu IMC. Para isso, consulte a tabela abaixo.\n",
    "\n",
    "IMC\tClassificação\tObesidade (grau)\n",
    "\n",
    "Menor que 18,5\tMagreza\t0\n",
    "Entre 18,5 e 24,9\tNormal\t0\n",
    "Entre 25,0 e 29,9\tSobrepeso\tI\n",
    "Entre 30,0 e 39,9\tObesidade\tII\n",
    "Maior que 40,0\tObesidade Grave\tIII\n",
    "\n",
    "(b) Salve em DataFrame no formato xlsx."
   ]
  },
  {
   "cell_type": "code",
   "execution_count": 6,
   "id": "824f9461",
   "metadata": {},
   "outputs": [],
   "source": [
    "# Carregando DataFrame\n",
    "df_5 = pd.read_csv('./Cadastro_Pessoas.csv',index_col=[0]) #tirando coluna index adicional no exercicio anterior\n",
    "df_5 \n",
    "\n",
    "# (a) Coluna classificação\n",
    "lista_condicoes = [ (df_5['IMC'] < 18.5), (df_5['IMC'] >= 18.5) & (df_5['IMC'] <= 24.9), (df_5['IMC'] >= 25.0) & (df_5['IMC'] <= 29.9), (df_5['IMC'] >= 30.0) & (df_5['IMC'] <= 39.9), (df_5['IMC'] < 40.0)]\n",
    "lista_classificacao = ['Magreza', 'Normal', 'Sobrepeso', 'Obesidade', 'Obesidade Grave']\n",
    "\n",
    "df_5['Classificacao'] = np.select(lista_condicoes, lista_classificacao, default='Not Specified')\n",
    "df_5\n",
    "\n",
    "# (b) Salvar df em excel\n",
    "df_5.to_excel('Lista1_Pandas_LC_Ex5.xlsx', index = False)"
   ]
  }
 ],
 "metadata": {
  "kernelspec": {
   "display_name": "Python 3",
   "language": "python",
   "name": "python3"
  },
  "language_info": {
   "codemirror_mode": {
    "name": "ipython",
    "version": 3
   },
   "file_extension": ".py",
   "mimetype": "text/x-python",
   "name": "python",
   "nbconvert_exporter": "python",
   "pygments_lexer": "ipython3",
   "version": "3.8.8"
  }
 },
 "nbformat": 4,
 "nbformat_minor": 5
}
