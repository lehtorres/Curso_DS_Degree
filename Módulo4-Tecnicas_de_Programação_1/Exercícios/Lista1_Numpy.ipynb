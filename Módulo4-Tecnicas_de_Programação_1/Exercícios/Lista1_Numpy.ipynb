{
 "cells": [
  {
   "cell_type": "markdown",
   "id": "f0e54570",
   "metadata": {},
   "source": [
    "***Lista Numpy 1***"
   ]
  },
  {
   "cell_type": "code",
   "execution_count": 2,
   "id": "06120539",
   "metadata": {},
   "outputs": [],
   "source": [
    "import numpy as np\n",
    "import numpy.matlib"
   ]
  },
  {
   "cell_type": "markdown",
   "id": "aa44f083",
   "metadata": {},
   "source": [
    "***1.*** Dado o array:\n",
    "\n",
    "arr = np.arange(50)\n",
    "\n",
    "Selecione a alternativa INCORRETA na utilização de filtros e máscaras neste Numpy array."
   ]
  },
  {
   "cell_type": "code",
   "execution_count": 10,
   "id": "d6007ba3",
   "metadata": {},
   "outputs": [
    {
     "data": {
      "text/plain": [
       "array([ 0,  1,  2,  3,  4,  5,  6,  7,  8,  9, 10, 11, 12, 13, 14, 15, 16,\n",
       "       17, 18, 19, 20, 21, 22, 23, 24, 25, 26, 27, 28, 29, 30, 31, 32, 33,\n",
       "       34, 35, 36, 37, 38, 39, 40, 41, 42, 43, 44, 45, 46, 47, 48, 49])"
      ]
     },
     "execution_count": 10,
     "metadata": {},
     "output_type": "execute_result"
    }
   ],
   "source": [
    "arr = np.arange(50)\n",
    "arr"
   ]
  },
  {
   "cell_type": "code",
   "execution_count": 19,
   "id": "b4b2fc52",
   "metadata": {},
   "outputs": [
    {
     "name": "stdout",
     "output_type": "stream",
     "text": [
      "[0 1 0 1 0 1 0 1 0 1 0 1 0 1 0 1 0 1 0 1 0 1 0 1 0 1 0 1 0 1 0 1 0 1 0 1 0\n",
      " 1 0 1 0 1 0 1 0 1 0 1 0 1]\n"
     ]
    }
   ],
   "source": [
    "# (a) Incorreta, não é um filtro ou mascara e sim um cálculo\n",
    "arr_atualizado = arr[arr % 2] \n",
    "print(arr_atualizado)"
   ]
  },
  {
   "cell_type": "markdown",
   "id": "dba4ac8e",
   "metadata": {},
   "source": [
    "***2.*** Agora, vamos explorar os arrays aleatórios e máscaras. Faça o que se pede:\n",
    "\n",
    "a) Crie um array aleatório de 15 itens entre 0 e 100;\n",
    "\n",
    "b) Qual o maior número do array?\n",
    "\n",
    "c) Qual a sua posição?\n",
    "\n",
    "d) Verifique quais números do array são maior que 10;\n",
    "\n",
    "e) Salve em uma nova lista apenas os itens entre 10 e 30."
   ]
  },
  {
   "cell_type": "code",
   "execution_count": 3,
   "id": "e217b36b",
   "metadata": {},
   "outputs": [],
   "source": [
    "# (a) Array aleatório de 15 elementos entre 0 e 100\n",
    "arr_2 = np.random.randint(low=0, high=100, size=15)\n",
    "arr_2\n",
    "\n",
    "# (b) Maior número\n",
    "maior = arr_2.max()\n",
    "\n",
    "# (c) Posição maior número\n",
    "np.where(arr_2 == maior)\n",
    "\n",
    "# (d) Números maiores que 10\n",
    "arr_2[arr_2 > 10]\n",
    "\n",
    "# (e) Novo array - entre 10 e 30\n",
    "arr_atualizado = arr_2[(arr_2 > 10) & (arr_2 < 30)]"
   ]
  },
  {
   "cell_type": "markdown",
   "id": "3311c2cf",
   "metadata": {},
   "source": [
    "***3.*** Nosso próximo foco serão as matrizes. Faça o que se pede:\n",
    "\n",
    "a) Gere uma matriz (3,2) com números linearmente espaçados entre 0 e 100 e intervalos de 20, usando o np.linspace();\n",
    "\n",
    "b) Gere uma matriz aleatória (5,2) com números entre 0 e 100;\n",
    "\n",
    "c) Crie um array com as dimensões apropriadas que, quando multiplicado pela matriz do item a), devolva essa mesma matriz. Use o método np.matmul()."
   ]
  },
  {
   "cell_type": "code",
   "execution_count": 8,
   "id": "4fbd8603",
   "metadata": {},
   "outputs": [],
   "source": [
    "# (a) Criando a matriz 3x2\n",
    "matriz_a = np.linspace(0,100, num=6)\n",
    "matriz_a = matriz_a.reshape(3,2)\n",
    "\n",
    "# (b) Matriz aleatória 5,2\n",
    "matriz_b = np.random.randint(0,100, size = (5,2))\n",
    "matriz_b\n",
    "\n",
    "# (c) \n",
    "array_c = np.identity(2) #matriz identidade\n",
    "matriz_resultante = np.matmul(matriz_a, array_c)"
   ]
  },
  {
   "cell_type": "code",
   "execution_count": null,
   "id": "981cc537",
   "metadata": {},
   "outputs": [],
   "source": []
  }
 ],
 "metadata": {
  "kernelspec": {
   "display_name": "Python 3",
   "language": "python",
   "name": "python3"
  },
  "language_info": {
   "codemirror_mode": {
    "name": "ipython",
    "version": 3
   },
   "file_extension": ".py",
   "mimetype": "text/x-python",
   "name": "python",
   "nbconvert_exporter": "python",
   "pygments_lexer": "ipython3",
   "version": "3.8.8"
  }
 },
 "nbformat": 4,
 "nbformat_minor": 5
}
