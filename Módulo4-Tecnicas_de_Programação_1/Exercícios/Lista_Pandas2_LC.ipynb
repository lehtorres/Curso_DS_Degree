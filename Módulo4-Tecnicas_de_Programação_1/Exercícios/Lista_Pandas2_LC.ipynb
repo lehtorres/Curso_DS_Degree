{
 "cells": [
  {
   "cell_type": "markdown",
   "id": "886d9fab",
   "metadata": {},
   "source": [
    "***Lista_Pandas2_LC***"
   ]
  },
  {
   "cell_type": "code",
   "execution_count": 2,
   "id": "82b13d24",
   "metadata": {},
   "outputs": [],
   "source": [
    "import pandas as pd"
   ]
  },
  {
   "cell_type": "markdown",
   "id": "c46205d6",
   "metadata": {},
   "source": [
    "***1.*** O arquivo avocado.csv consiste em um dataset que contém dados sobre vendas de abacates (avocado, em inglês) em diversas regiões dos Estados Unidos. Essa dataset contém as seguintes colunas:\n",
    "\n",
    "Date - a data da observação\n",
    "\n",
    "AveragePrice - o preço médio de um único abacate\n",
    "\n",
    "year - o ano\n",
    "\n",
    "region - a cidade ou região da observação\n",
    "\n",
    "Total Volume - volume total de abacates vendidos\n",
    "\n",
    "Além das informações acima, contidas no arquivo avocado.csv, o tipo do abacate (convencional ou orgânico) também seria uma informação importante para a sua análise. Suponhamos que você conseguiu essas informações para cada uma das observações do arquivo avocado.csv, na mesma ordem, e salvou-as no arquivo avocado_type.csv. Portanto, tudo o que você precisa é juntar esses dois arquivos em um mesmo DataFrame. E, em seguida, salve-o em um arquivo csv.\n",
    "\n",
    "PS. Caso queira criar uma Series com os dados aleatórios para o tipo de abacate, utilize o código abaixo:"
   ]
  },
  {
   "cell_type": "code",
   "execution_count": 15,
   "id": "cdae86aa",
   "metadata": {
    "scrolled": true
   },
   "outputs": [],
   "source": [
    "df_avocado = pd.read_csv(\"avocado.csv\")\n",
    "df_type = pd.read_csv(\"avocado_type.csv\")\n",
    "\n",
    "# Consolidar as duas bases\n",
    "df_1 = pd.concat([df_avocado, df_type], axis=1, join=\"inner\")\n",
    "df_1.to_csv('Avocado_completa.csv', index = False)"
   ]
  },
  {
   "cell_type": "markdown",
   "id": "6a295ee5",
   "metadata": {},
   "source": [
    "***2.*** Carregue o arquivo csv que você salvou na questão anterior e, em seguida, obtenha o que é solicitado nos itens elencados abaixo:\n",
    "\n",
    "(a) A quantidade de abacates do tipo convecional e do tipo orgânico.\n",
    "\n",
    "(b) A quantidade de registros (linhas) de abacates vendidos para cada região.\n",
    "\n",
    "(c) Para que todos os labels das colunas fiquem padronizados, renomeie aqueles que estão iniciando em letra minúscula para que iniciem em letra maiúscula.\n",
    "\n",
    "(d) Uma vez que você já possui uma coluna com a data, remova a coluna que apresenta o ano.\n"
   ]
  },
  {
   "cell_type": "code",
   "execution_count": 53,
   "id": "15bef5f5",
   "metadata": {},
   "outputs": [
    {
     "data": {
      "text/html": [
       "<div>\n",
       "<style scoped>\n",
       "    .dataframe tbody tr th:only-of-type {\n",
       "        vertical-align: middle;\n",
       "    }\n",
       "\n",
       "    .dataframe tbody tr th {\n",
       "        vertical-align: top;\n",
       "    }\n",
       "\n",
       "    .dataframe thead th {\n",
       "        text-align: right;\n",
       "    }\n",
       "</style>\n",
       "<table border=\"1\" class=\"dataframe\">\n",
       "  <thead>\n",
       "    <tr style=\"text-align: right;\">\n",
       "      <th></th>\n",
       "      <th>Date</th>\n",
       "      <th>AveragePrice</th>\n",
       "      <th>Total Volume</th>\n",
       "      <th>Region</th>\n",
       "      <th>Type</th>\n",
       "    </tr>\n",
       "  </thead>\n",
       "  <tbody>\n",
       "    <tr>\n",
       "      <th>0</th>\n",
       "      <td>2015-12-27</td>\n",
       "      <td>1.33</td>\n",
       "      <td>64236.62</td>\n",
       "      <td>Albany</td>\n",
       "      <td>conventional</td>\n",
       "    </tr>\n",
       "    <tr>\n",
       "      <th>1</th>\n",
       "      <td>2015-12-20</td>\n",
       "      <td>1.35</td>\n",
       "      <td>54876.98</td>\n",
       "      <td>Albany</td>\n",
       "      <td>conventional</td>\n",
       "    </tr>\n",
       "    <tr>\n",
       "      <th>2</th>\n",
       "      <td>2015-12-13</td>\n",
       "      <td>0.93</td>\n",
       "      <td>118220.22</td>\n",
       "      <td>Albany</td>\n",
       "      <td>conventional</td>\n",
       "    </tr>\n",
       "    <tr>\n",
       "      <th>3</th>\n",
       "      <td>2015-12-06</td>\n",
       "      <td>1.08</td>\n",
       "      <td>78992.15</td>\n",
       "      <td>Albany</td>\n",
       "      <td>conventional</td>\n",
       "    </tr>\n",
       "    <tr>\n",
       "      <th>4</th>\n",
       "      <td>2015-11-29</td>\n",
       "      <td>1.28</td>\n",
       "      <td>51039.60</td>\n",
       "      <td>Albany</td>\n",
       "      <td>conventional</td>\n",
       "    </tr>\n",
       "    <tr>\n",
       "      <th>...</th>\n",
       "      <td>...</td>\n",
       "      <td>...</td>\n",
       "      <td>...</td>\n",
       "      <td>...</td>\n",
       "      <td>...</td>\n",
       "    </tr>\n",
       "    <tr>\n",
       "      <th>18244</th>\n",
       "      <td>2018-02-04</td>\n",
       "      <td>1.63</td>\n",
       "      <td>17074.83</td>\n",
       "      <td>WestTexNewMexico</td>\n",
       "      <td>organic</td>\n",
       "    </tr>\n",
       "    <tr>\n",
       "      <th>18245</th>\n",
       "      <td>2018-01-28</td>\n",
       "      <td>1.71</td>\n",
       "      <td>13888.04</td>\n",
       "      <td>WestTexNewMexico</td>\n",
       "      <td>organic</td>\n",
       "    </tr>\n",
       "    <tr>\n",
       "      <th>18246</th>\n",
       "      <td>2018-01-21</td>\n",
       "      <td>1.87</td>\n",
       "      <td>13766.76</td>\n",
       "      <td>WestTexNewMexico</td>\n",
       "      <td>organic</td>\n",
       "    </tr>\n",
       "    <tr>\n",
       "      <th>18247</th>\n",
       "      <td>2018-01-14</td>\n",
       "      <td>1.93</td>\n",
       "      <td>16205.22</td>\n",
       "      <td>WestTexNewMexico</td>\n",
       "      <td>organic</td>\n",
       "    </tr>\n",
       "    <tr>\n",
       "      <th>18248</th>\n",
       "      <td>2018-01-07</td>\n",
       "      <td>1.62</td>\n",
       "      <td>17489.58</td>\n",
       "      <td>WestTexNewMexico</td>\n",
       "      <td>organic</td>\n",
       "    </tr>\n",
       "  </tbody>\n",
       "</table>\n",
       "<p>18249 rows × 5 columns</p>\n",
       "</div>"
      ],
      "text/plain": [
       "             Date  AveragePrice  Total Volume            Region          Type\n",
       "0      2015-12-27          1.33      64236.62            Albany  conventional\n",
       "1      2015-12-20          1.35      54876.98            Albany  conventional\n",
       "2      2015-12-13          0.93     118220.22            Albany  conventional\n",
       "3      2015-12-06          1.08      78992.15            Albany  conventional\n",
       "4      2015-11-29          1.28      51039.60            Albany  conventional\n",
       "...           ...           ...           ...               ...           ...\n",
       "18244  2018-02-04          1.63      17074.83  WestTexNewMexico       organic\n",
       "18245  2018-01-28          1.71      13888.04  WestTexNewMexico       organic\n",
       "18246  2018-01-21          1.87      13766.76  WestTexNewMexico       organic\n",
       "18247  2018-01-14          1.93      16205.22  WestTexNewMexico       organic\n",
       "18248  2018-01-07          1.62      17489.58  WestTexNewMexico       organic\n",
       "\n",
       "[18249 rows x 5 columns]"
      ]
     },
     "execution_count": 53,
     "metadata": {},
     "output_type": "execute_result"
    }
   ],
   "source": [
    "# Carregando arquivo criado\n",
    "df_2 = pd.read_csv('Avocado_completa.csv')\n",
    "df_2\n",
    "\n",
    "# (a) Quantidade por tipo\n",
    "filtro_conv = df_2['type'] == 'conventional'\n",
    "qtd_conv = filtro_conv.sum()\n",
    "\n",
    "filtro_org = df_2['type'] == 'organic'\n",
    "qtd_org = filtro_org.sum()\n",
    "\n",
    "# (b) Quantidade vendidos\n",
    "group = df_2.groupby(['region'])\n",
    "group.size().reset_index(name='counts')\n",
    "\n",
    "# (c) Renomear colunas\n",
    "df_2.rename({'year':'Year','region':'Region','type':'Type'}, axis=1, inplace=True)\n",
    "df_2\n",
    "\n",
    "# (d) Remover coluna ano\n",
    "#pd.cut(df.Age, 4).value_counts()\n",
    "del df_2['Year']\n",
    "df_2\n"
   ]
  },
  {
   "cell_type": "markdown",
   "id": "df307489",
   "metadata": {},
   "source": [
    "***3.*** Carregue, em um objeto DataFrame, o mesmo dataset que você salvou na questão Q1, agrupe os dados do DF pelo tipo do abacate e, em seguida, obtenha:\n",
    "\n",
    "(a) A volume total de abacates vendidos para cada tipo.\n",
    "\n",
    "(b) O preço médio dos abacates vendidos para cada tipo."
   ]
  },
  {
   "cell_type": "code",
   "execution_count": 70,
   "id": "926eb876",
   "metadata": {},
   "outputs": [
    {
     "data": {
      "text/html": [
       "<div>\n",
       "<style scoped>\n",
       "    .dataframe tbody tr th:only-of-type {\n",
       "        vertical-align: middle;\n",
       "    }\n",
       "\n",
       "    .dataframe tbody tr th {\n",
       "        vertical-align: top;\n",
       "    }\n",
       "\n",
       "    .dataframe thead th {\n",
       "        text-align: right;\n",
       "    }\n",
       "</style>\n",
       "<table border=\"1\" class=\"dataframe\">\n",
       "  <thead>\n",
       "    <tr style=\"text-align: right;\">\n",
       "      <th></th>\n",
       "      <th>AveragePrice</th>\n",
       "    </tr>\n",
       "    <tr>\n",
       "      <th>type</th>\n",
       "      <th></th>\n",
       "    </tr>\n",
       "  </thead>\n",
       "  <tbody>\n",
       "    <tr>\n",
       "      <th>conventional</th>\n",
       "      <td>1.16</td>\n",
       "    </tr>\n",
       "    <tr>\n",
       "      <th>organic</th>\n",
       "      <td>1.65</td>\n",
       "    </tr>\n",
       "  </tbody>\n",
       "</table>\n",
       "</div>"
      ],
      "text/plain": [
       "              AveragePrice\n",
       "type                      \n",
       "conventional          1.16\n",
       "organic               1.65"
      ]
     },
     "execution_count": 70,
     "metadata": {},
     "output_type": "execute_result"
    }
   ],
   "source": [
    "# Carregando o arquivo em um dataframe\n",
    "df_3 = pd.read_csv('Avocado_completa.csv')\n",
    "\n",
    "# Agrupando dados por tipo de abacate\n",
    "group_type = df_3.groupby(['type'])\n",
    "\n",
    "# (a) volume vendido para cada tipo\n",
    "group_type.sum()[['Total Volume']]\n",
    "\n",
    "# (b) preço médio cada tipo\n",
    "group_type.mean()[['AveragePrice']].round(2)"
   ]
  },
  {
   "cell_type": "markdown",
   "id": "3358ae22",
   "metadata": {},
   "source": [
    "***4.*** O arquivo googleplaystore.csv é um dataset que contém diversas informações sobre aplicativos disponíveis para download na Google Play Store. Logo após, verifique se existem dados duplicados e/ou ausentes nesse dataset.\n",
    "\n",
    "Caso existam dados duplicados, remova-os. Caso existam dados ausentes, você pode removê-los ou pensar em alguma maneira de preenchê-los."
   ]
  },
  {
   "cell_type": "code",
   "execution_count": 102,
   "id": "89da52a8",
   "metadata": {},
   "outputs": [
    {
     "data": {
      "text/plain": [
       "App               0\n",
       "Category          0\n",
       "Rating            0\n",
       "Reviews           0\n",
       "Size              0\n",
       "Installs          0\n",
       "Type              0\n",
       "Price             0\n",
       "Content Rating    0\n",
       "Genres            0\n",
       "Last Updated      0\n",
       "Current Ver       0\n",
       "Android Ver       0\n",
       "dtype: int64"
      ]
     },
     "execution_count": 102,
     "metadata": {},
     "output_type": "execute_result"
    }
   ],
   "source": [
    "# Carregando base google play store\n",
    "df_4 = pd.read_csv('googleplaystore.csv')\n",
    "df_4.head()\n",
    "\n",
    "# Tem duplicadas?\n",
    "df_4.duplicated().sum() #Sim, tem duplicadas\n",
    "\n",
    "# Eliminando duplicadas no proprio DataFrame\n",
    "df_4.drop_duplicates(inplace=True)\n",
    "\n",
    "# Tem dados ausentes? \n",
    "df_4.isnull().sum() #Sim, tem valores ausentes em 5 colunas\n",
    "\n",
    "# Preenchendo ausentes coluna Rating com a média\n",
    "df_4['Rating'].fillna(df_4['Rating'].mean(), inplace = True)\n",
    "\n",
    "# Os demais NaN estão representam poucas linhas e estão em colunas categoricas (Type,Content Rating, Current Ver,Android Ver)\n",
    "# Assim, eliminando os demais NaNs\n",
    "df_4.dropna(subset=['Type','Content Rating', 'Current Ver','Android Ver'], inplace = True)"
   ]
  },
  {
   "cell_type": "markdown",
   "id": "ea1d7aa0",
   "metadata": {},
   "source": [
    "***5.*** O arquivo houses_to_rent.csv consiste em um dataset que contém dados sobre casas para alugar no Brasil. Carregue-o em um objeto DataFrame e verifique os dados contidos nas colunas desse DF (você pode utilizar os métodos head, tail e info). Logo após, verifique se existem dados duplicados e/ou ausentes nesse dataset.\n",
    "\n",
    "Caso existam dados duplicados, remova-os. Caso existam dados ausentes, você pode removê-los ou pensar em alguma maneira de preenchê-los."
   ]
  },
  {
   "cell_type": "code",
   "execution_count": 112,
   "id": "693c40ee",
   "metadata": {},
   "outputs": [
    {
     "name": "stdout",
     "output_type": "stream",
     "text": [
      "<class 'pandas.core.frame.DataFrame'>\n",
      "RangeIndex: 10692 entries, 0 to 10691\n",
      "Data columns (total 13 columns):\n",
      " #   Column               Non-Null Count  Dtype \n",
      "---  ------               --------------  ----- \n",
      " 0   city                 10692 non-null  object\n",
      " 1   area                 10692 non-null  int64 \n",
      " 2   rooms                10692 non-null  int64 \n",
      " 3   bathroom             10692 non-null  int64 \n",
      " 4   parking spaces       10692 non-null  int64 \n",
      " 5   floor                10692 non-null  object\n",
      " 6   animal               10692 non-null  object\n",
      " 7   furniture            10692 non-null  object\n",
      " 8   hoa (R$)             10692 non-null  int64 \n",
      " 9   rent amount (R$)     10692 non-null  int64 \n",
      " 10  property tax (R$)    10692 non-null  int64 \n",
      " 11  fire insurance (R$)  10692 non-null  int64 \n",
      " 12  total (R$)           10692 non-null  int64 \n",
      "dtypes: int64(9), object(4)\n",
      "memory usage: 1.1+ MB\n"
     ]
    },
    {
     "data": {
      "text/plain": [
       "city                   0\n",
       "area                   0\n",
       "rooms                  0\n",
       "bathroom               0\n",
       "parking spaces         0\n",
       "floor                  0\n",
       "animal                 0\n",
       "furniture              0\n",
       "hoa (R$)               0\n",
       "rent amount (R$)       0\n",
       "property tax (R$)      0\n",
       "fire insurance (R$)    0\n",
       "total (R$)             0\n",
       "dtype: int64"
      ]
     },
     "execution_count": 112,
     "metadata": {},
     "output_type": "execute_result"
    }
   ],
   "source": [
    "# Carregando base google play store\n",
    "df_5 = pd.read_csv('houses_to_rent.csv')\n",
    "df_5.head()\n",
    "df_5.tail()\n",
    "\n",
    "df_5.info()\n",
    "\n",
    "# Tem duplicados?\n",
    "df_5.duplicated().sum() #Sim, tem 358 duplicados\n",
    "\n",
    "# Eliminando duplicadas no proprio DataFrame\n",
    "df_5.drop_duplicates(inplace=True)\n",
    "\n",
    "# Tem dados ausentes? \n",
    "df_5.isna().sum() #Não apresenta dados ausentes\n"
   ]
  }
 ],
 "metadata": {
  "kernelspec": {
   "display_name": "Python 3",
   "language": "python",
   "name": "python3"
  },
  "language_info": {
   "codemirror_mode": {
    "name": "ipython",
    "version": 3
   },
   "file_extension": ".py",
   "mimetype": "text/x-python",
   "name": "python",
   "nbconvert_exporter": "python",
   "pygments_lexer": "ipython3",
   "version": "3.8.8"
  }
 },
 "nbformat": 4,
 "nbformat_minor": 5
}
